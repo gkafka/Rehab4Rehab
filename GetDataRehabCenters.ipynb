{
 "cells": [
  {
   "cell_type": "markdown",
   "metadata": {},
   "source": [
    "# GetDataRehabCenters\n",
    "\n",
    "This notebook scrapes information about the number of drug rehabilition programs in each US county."
   ]
  },
  {
   "cell_type": "code",
   "execution_count": 1,
   "metadata": {
    "collapsed": true
   },
   "outputs": [],
   "source": [
    "%matplotlib inline\n",
    "\n",
    "from bs4 import BeautifulSoup\n",
    "import json\n",
    "import matplotlib as mpl\n",
    "import matplotlib.pyplot as plt\n",
    "import numpy as np\n",
    "import pandas as pd\n",
    "import scipy as sp\n",
    "import seaborn as sns\n",
    "import string\n",
    "import requests\n",
    "import time"
   ]
  },
  {
   "cell_type": "markdown",
   "metadata": {},
   "source": [
    "The information is scraped from www.addiction.org. The desired information (number of clinics/county) is nested through several levels. The basic directory gives links for each state. One of these links is to a page that gives links for each county. Finally, the page for the individual county pages list the actual facilities, which can be counted.\n",
    "\n",
    "First, start by getting the base directory page."
   ]
  },
  {
   "cell_type": "code",
   "execution_count": 2,
   "metadata": {
    "collapsed": true
   },
   "outputs": [],
   "source": [
    "base_address = \"http://www.addicted.org\";"
   ]
  },
  {
   "cell_type": "code",
   "execution_count": 3,
   "metadata": {
    "collapsed": false
   },
   "outputs": [
    {
     "name": "stdout",
     "output_type": "stream",
     "text": [
      "Successfully acquired directory page.\n"
     ]
    }
   ],
   "source": [
    "directory_path = \"/directory.html\";\n",
    "\n",
    "try:\n",
    "    directory_html = requests.get(\"{0}{1}\".format(base_address, directory_path));\n",
    "    print \"Successfully acquired directory page.\";\n",
    "except:\n",
    "    print \"Failed to get directory page.\";"
   ]
  },
  {
   "cell_type": "markdown",
   "metadata": {},
   "source": [
    "The typical scraping procedure is to use requests to get the html, to parse this with BeautifulSoup, and finally find fields of interest. The html was requested above, and the rest of the procedure is done below.\n",
    "\n",
    "The links to the pages listing each county within the state is found in a list html list. Note that not all of the entries are actual states! Finding all of the list elements pulls in these 'spurious' entries as well. The actual links are found within each list element. The link with \"counties\" or \"county\" in the entry is the one of interest, and the (relative) url is stored in the normal href attribute."
   ]
  },
  {
   "cell_type": "code",
   "execution_count": 4,
   "metadata": {
    "collapsed": false
   },
   "outputs": [
    {
     "name": "stdout",
     "output_type": "stream",
     "text": [
      "Found 54 \"states\".\n",
      "Found 50 states with per county breakdown.\n"
     ]
    }
   ],
   "source": [
    "directory_soup = BeautifulSoup(directory_html.text, \"html.parser\");\n",
    "\n",
    "html_entries = directory_soup.findAll(\"ul\", attrs={\"class\": \"sub-categories\"});\n",
    "print 'Found {0} \"states\".'.format(len(html_entries));\n",
    "\n",
    "state_paths = [];\n",
    "for state in html_entries:\n",
    "    facility_type_entries = state.findAll(\"a\");\n",
    "    \n",
    "    for entry in facility_type_entries:\n",
    "        if (\"counties\" in entry.get_text().lower() or\n",
    "            \"county\"   in entry.get_text().lower()):\n",
    "            state_paths.append(entry.attrs[\"href\"]);\n",
    "\n",
    "print \"Found {0} states with per county breakdown.\".format(len(state_paths));"
   ]
  },
  {
   "cell_type": "markdown",
   "metadata": {},
   "source": [
    "Diving further into the nested procedure, the next step is to get the (relative) urls for each individual county. In preparation for joining to other datasets, the desired output will contain the state and county name, so the formatting for that information begins here.\n",
    "\n",
    "A map from the state name to the two letter abbreviation is used for the state. This information will be collected from the state url, so this includes any typos (orego for Oregon), hyphens for states with multiple words, and other possible details (parishes for Louisiana).\n",
    "\n",
    "The form of the state url is a 20 character string, <code>/directory/category/</code>, followed by the snippet <code>statename-counties</code>, and finally by the appendix <code>.html</code>. To get the state name, only the snippet <code>statename-counties</code> is pulled from the url. This is split on the final hyphen (from the right, hence <code>rsplit</code>), and the first token is entered as the state map key.\n",
    "\n",
    "Finally, the individual (relative) urls for each county are stored in a dictionary, where the county path is the key, and the abbreviated state name as the value."
   ]
  },
  {
   "cell_type": "code",
   "execution_count": 15,
   "metadata": {
    "collapsed": false
   },
   "outputs": [
    {
     "name": "stdout",
     "output_type": "stream",
     "text": [
      "/directory/category/alabama-counties.html: Found 30 counties.\n",
      "/directory/category/alaska-boroughs.html: Found 8 counties.\n",
      "/directory/category/arizona-counties.html: Found 8 counties.\n",
      "/directory/category/arkansas-counties.html: Found 30 counties.\n",
      "/directory/category/california-counties.html: Found 39 counties.\n",
      "/directory/category/colorado-counties.html: Found 21 counties.\n",
      "/directory/category/connecticut-counties.html: Found 6 counties.\n",
      "/directory/category/delaware-counties.html: Found 3 counties.\n",
      "/directory/category/florida-counties.html: Found 35 counties.\n",
      "/directory/category/georgia-counties.html: Found 29 counties.\n",
      "/directory/category/hawaii-counties.html: Found 4 counties.\n",
      "/directory/category/idaho-counties.html: Found 8 counties.\n",
      "/directory/category/illinois-counties.html: Found 28 counties.\n",
      "/directory/category/indiana-counties.html: Found 22 counties.\n",
      "/directory/category/iowa-counties.html: Found 27 counties.\n",
      "/directory/category/kansas-counties.html: Found 17 counties.\n",
      "/directory/category/kentucky-counties.html: Found 23 counties.\n",
      "/directory/category/louisiana-parishes-counties.html: Found 16 counties.\n",
      "/directory/category/maine-counties.html: Found 9 counties.\n",
      "/directory/category/maryland-counties.html: Found 13 counties.\n",
      "/directory/category/massachusetts-counties.html: Found 9 counties.\n",
      "/directory/category/michigan-counties.html: Found 22 counties.\n",
      "/directory/category/minnesota-counties.html: Found 22 counties.\n",
      "/directory/category/mississippi-counties.html: Found 17 counties.\n",
      "/directory/category/missouri-counties.html: Found 42 counties.\n",
      "/directory/category/montana-counties.html: Found 18 counties.\n",
      "/directory/category/nebraska-counties.html: Found 20 counties.\n",
      "/directory/category/nevada-counties.html: Found 7 counties.\n",
      "/directory/category/new-hampshire-counties.html: Found 8 counties.\n",
      "/directory/category/new-jersey-counties.html: Found 21 counties.\n",
      "/directory/category/new-mexico-counties.html: Found 16 counties.\n",
      "/directory/category/new-york-counties.html: Found 50 counties.\n",
      "/directory/category/north-carolina-counties.html: Found 54 counties.\n",
      "/directory/category/north-dakota-counties.html: Found 15 counties.\n",
      "/directory/category/ohio-counties.html: Found 56 counties.\n",
      "/directory/category/oklahoma-counties.html: Found 29 counties.\n",
      "/directory/category/orego.html: Found 23 counties.\n",
      "/directory/category/pennsylvania-counties.html: Found 55 counties.\n",
      "/directory/category/rhode-island-counties.html: Found 3 counties.\n",
      "/directory/category/south-carolina-counties.html: Found 26 counties.\n",
      "/directory/category/south-dakota-counties.html: Found 22 counties.\n",
      "/directory/category/tennessee-counties.html: Found 32 counties.\n",
      "/directory/category/texas-counties.html: Found 68 counties.\n",
      "/directory/category/utah-counties.html: Found 20 counties.\n",
      "/directory/category/vermont-counties.html: Found 9 counties.\n",
      "/directory/category/virginia-counties.html: Found 43 counties.\n",
      "/directory/category/washington-counties.html: Found 25 counties.\n",
      "/directory/category/west-virginia-counties.html: Found 21 counties.\n",
      "/directory/category/wisconsin-county.html: Found 40 counties.\n",
      "/directory/category/wyoming-counties.html: Found 12 counties.\n",
      "Found 1181 total counties.\n"
     ]
    }
   ],
   "source": [
    "county_paths = {};\n",
    "old_total = 0;\n",
    "\n",
    "state_map = {'alabama': 'AL', 'alaska': 'AK', 'arizona': 'AZ', 'arkansas': 'AR', 'california': 'CA',\n",
    "             'colorado': 'CO', 'connecticut': 'CT', 'delaware': 'DE', 'florida': 'FL', 'georgia': 'GA',\n",
    "             'hawaii': 'HI', 'idaho': 'ID', 'illinois': 'IL', 'indiana': 'IN', 'iowa': 'IA',\n",
    "             'kansas': 'KS', 'kentucky': 'KY', 'louisiana-parishes': 'LA', 'maine': 'ME', 'maryland': 'MD',\n",
    "             'massachusetts': 'MA', 'michigan': 'MI', 'minnesota': 'MN', 'mississippi': 'MS', 'missouri': 'MO',\n",
    "             'montana': 'MT', 'nebraska': 'NE', 'nevada': 'NV', 'new-hampshire': 'NH', 'new-jersey': 'NJ',\n",
    "             'new-mexico': 'NM', 'new-york': 'NY', 'north-carolina': 'NC', 'north-dakota': 'ND', 'ohio': 'OH',\n",
    "             'oklahoma': 'OK', 'orego': 'OR', 'pennsylvania': 'PA', 'rhode-island': 'RI', 'south-carolina': 'SC',\n",
    "             'south-dakota': 'SD', 'tennessee': 'TN', 'texas': 'TX', 'utah': 'UT', 'vermont': 'VT',\n",
    "             'virginia': 'VA', 'washington': 'WA', 'west-virginia': 'WV', 'wisconsin': 'WI', 'wyoming': 'WY'};\n",
    "\n",
    "for path in state_paths:\n",
    "    time.sleep(1.);\n",
    "    try:\n",
    "        state_html = requests.get(\"{0}{1}\".format(base_address, path));\n",
    "    except:\n",
    "        print \"Failed to get html for relative path {0}.\".format(path);\n",
    "        continue;\n",
    "    \n",
    "    state_soup = BeautifulSoup(state_html.text, \"html.parser\");\n",
    "    html_entries = state_soup.findAll(\"a\");\n",
    "    \n",
    "    for county in html_entries:\n",
    "        if \"county\" in county.get_text().lower():\n",
    "            county_paths[(county.attrs[\"href\"])] = state_map[path[20:-5].rsplit('-',1)[0]];\n",
    "    \n",
    "    print \"{0}: Found {1} counties.\".format(path, len(county_paths)-old_total);\n",
    "    old_total = len(county_paths);\n",
    "\n",
    "print \"Found {0} total counties.\".format(len(county_paths));"
   ]
  },
  {
   "cell_type": "markdown",
   "metadata": {},
   "source": [
    "This is the final layer of the nested procedure that pulls the total number of facilities. The html for each county is accessed first to make sure the final dictionary entry will be valid. The county is skipped otherwise.\n",
    "\n",
    "With a successful request, the county name is formatted further. Since the relative path to the county does not include the state, there are many duplicate county names. Thus, the general format for the relative county url is <code>/directory/category/countyname(-modifier)-county(-number).html</code>, where <code>(-modifier)</code> is an additional piece for states where there are similarly named divisions that are not counties, and <code>(-number)</code> is the modifier to distinguish urls for duplicate counties.\n",
    "\n",
    "First, the county name discards the same prefix and suffix as above and converts hyphens to spaces. The remaining string is tokenized and the individual words in the county name are capitalized. A check is then performed whether the last word is a digit. If it is, the string is split on only the last space, and the county is taken as the first word, discarding the digit (and space before it). Next, if two county style designation exist in the name (i.e., county and borough), the word 'county' is discarded. Finally, if no county style designation exists, the appropriate one is appended, based on the state.\n",
    "\n",
    "The next logic gets the number of facilities. If there are more than 20, then the facilities are listed on mulitple pages. A check is performed for the html element that links to each page. If none is found, the total number of facilities are counted based on the appropriate element. If the pagination element is found, the last page is accessed and the total number of facilities is counted on this page. The actual url referenced by the 'Last' button includes the actual page number, so this is pulled to calculate the real total, using the fact that all pages before the final page have a full 20 facilities.\n",
    "\n",
    "The final dictionary format is a dictionary of lists. Once the state, county, and number of facilities are all formatted/calculated, they are appended to the appropriate list.\n",
    "\n",
    "One future improvement could consider the tags associated with each facility. Of course, this would require visiting each page when the facilities are listed over multiple pages."
   ]
  },
  {
   "cell_type": "code",
   "execution_count": 26,
   "metadata": {
    "collapsed": false
   },
   "outputs": [
    {
     "name": "stdout",
     "output_type": "stream",
     "text": [
      "On iteration 20.\n",
      "On iteration 40.\n",
      "On iteration 60.\n",
      "On iteration 80.\n",
      "On iteration 100.\n",
      "On iteration 120.\n",
      "On iteration 140.\n",
      "On iteration 160.\n",
      "On iteration 180.\n",
      "On iteration 200.\n",
      "On iteration 220.\n",
      "On iteration 240.\n",
      "On iteration 260.\n",
      "On iteration 280.\n",
      "On iteration 300.\n",
      "On iteration 320.\n",
      "On iteration 340.\n",
      "On iteration 360.\n",
      "On iteration 380.\n",
      "On iteration 400.\n",
      "On iteration 420.\n",
      "On iteration 440.\n",
      "On iteration 460.\n",
      "On iteration 480.\n",
      "On iteration 500.\n",
      "On iteration 520.\n",
      "On iteration 540.\n",
      "On iteration 560.\n",
      "On iteration 580.\n",
      "On iteration 600.\n",
      "On iteration 620.\n",
      "On iteration 640.\n",
      "On iteration 660.\n",
      "On iteration 680.\n",
      "On iteration 700.\n",
      "On iteration 720.\n",
      "On iteration 740.\n",
      "On iteration 760.\n",
      "On iteration 780.\n",
      "On iteration 800.\n",
      "On iteration 820.\n",
      "On iteration 840.\n",
      "On iteration 860.\n",
      "On iteration 880.\n",
      "On iteration 900.\n",
      "On iteration 920.\n",
      "On iteration 940.\n",
      "On iteration 960.\n",
      "On iteration 980.\n",
      "On iteration 1000.\n",
      "On iteration 1020.\n",
      "On iteration 1040.\n",
      "On iteration 1060.\n",
      "On iteration 1080.\n",
      "On iteration 1100.\n",
      "On iteration 1120.\n",
      "On iteration 1140.\n",
      "On iteration 1160.\n",
      "On iteration 1180.\n"
     ]
    }
   ],
   "source": [
    "rehab_dict = {'state': [], 'county': [], 'n_facilities': []};\n",
    "iterator = 1;\n",
    "\n",
    "for path in county_paths:\n",
    "    if iterator % 20 == 0:\n",
    "        print 'On iteration {0}.'.format(iterator);\n",
    "    iterator += 1;\n",
    "    \n",
    "    county = '';\n",
    "    state = '';\n",
    "    n_facilities = -1;\n",
    "    \n",
    "    time.sleep(1.);\n",
    "    try:\n",
    "        county_html = requests.get(\"{0}{1}\".format(base_address, path));\n",
    "    except:\n",
    "        print \"Failed to get html for relative path {0}.\".format(path);\n",
    "        continue;\n",
    "    \n",
    "    county_soup = BeautifulSoup(county_html.text, \"html.parser\");\n",
    "    \n",
    "    state = county_paths[path];\n",
    "    county = string.capwords(path[20:-5].replace('-',' '));\n",
    "    if county.rsplit(' ', 1)[-1].isdigit():\n",
    "        county = county.rsplit(' ', 1)[0];\n",
    "    if(('County' in county and 'Borough' in county) or\n",
    "       ('County' in county and 'Parish' in county)):\n",
    "        county = county.replace(' County', '');\n",
    "    if('County' not in county and 'Borough' not in county and 'Parish' not in county):\n",
    "        if state == 'AK':\n",
    "            county = ' '.join([county, 'Borough']);\n",
    "        elif state == 'LA':\n",
    "            county = ' '.join([county, 'Parish']);\n",
    "        else:\n",
    "            county = ' '.join([county, 'County']);\n",
    "    \n",
    "    county = ', '.join([county, state])\n",
    "    \n",
    "    html_entries = county_soup.findAll(\"ul\", attrs={\"class\": \"uk-pagination\"});\n",
    "    if len(html_entries) == 0:\n",
    "        html_entries = county_soup.findAll(\"article\", attrs={\"class\": \"uk-article\"});\n",
    "        n_facilities = len(html_entries);\n",
    "    elif len(html_entries) == 1:\n",
    "        page_links = html_entries[0].findAll(\"a\");\n",
    "        new_path = page_links[-1].attrs[\"href\"];\n",
    "\n",
    "        page_end = -5;\n",
    "        last_page = int(new_path[-6:page_end]);\n",
    "        for page_start in [-7, -8]:\n",
    "            if new_path[page_start:page_end].isdigit():\n",
    "                last_page = int(new_path[page_start:page_end]);\n",
    "            else:\n",
    "                break;\n",
    "            \n",
    "        time.sleep(1.);\n",
    "        try:\n",
    "            county_html = requests.get(\"{0}{1}\".format(base_address, new_path));\n",
    "            county_soup = BeautifulSoup(county_html.text, \"html.parser\");\n",
    "            html_entries = county_soup.findAll(\"article\", attrs={\"class\": \"uk-article\"});\n",
    "            n_facilities = len(html_entries);\n",
    "        except:\n",
    "            print \"Failed to get html for relative path {0}.\".format(new_path);\n",
    "            n_facilities = 0;\n",
    "        \n",
    "        n_facilities += (last_page-1)*20;\n",
    "    else:\n",
    "        print \"More than 1 pagination section for path {0}.\".format(path);\n",
    "    \n",
    "    rehab_dict['state'].append(state);\n",
    "    rehab_dict['county'].append(county);\n",
    "    rehab_dict['n_facilities'].append(n_facilities);\n",
    "    #print \"{0}; {1}; {2}\".format(state, county, n_facilities);"
   ]
  },
  {
   "cell_type": "markdown",
   "metadata": {},
   "source": [
    "A sanity check: check that the length of each list in the dictionary has the same length!"
   ]
  },
  {
   "cell_type": "code",
   "execution_count": 27,
   "metadata": {
    "collapsed": false
   },
   "outputs": [
    {
     "name": "stdout",
     "output_type": "stream",
     "text": [
      "1181 1181 1181\n"
     ]
    }
   ],
   "source": [
    "print len(rehab_dict['state']), len(rehab_dict['county']), len(rehab_dict['n_facilities'])"
   ]
  },
  {
   "cell_type": "markdown",
   "metadata": {},
   "source": [
    "The data is saved as a json file."
   ]
  },
  {
   "cell_type": "code",
   "execution_count": 28,
   "metadata": {
    "collapsed": true
   },
   "outputs": [],
   "source": [
    "outfile = open(\"DataRehabCenters.json\", \"w\");\n",
    "json.dump(rehab_dict, outfile);\n",
    "outfile.close();"
   ]
  },
  {
   "cell_type": "markdown",
   "metadata": {},
   "source": [
    "Load the data back from file and convert it to a dataframe. Do a small exploratory data analysis exercise by plotting a histogram of the number of facilities in a county."
   ]
  },
  {
   "cell_type": "code",
   "execution_count": 29,
   "metadata": {
    "collapsed": false
   },
   "outputs": [],
   "source": [
    "with open('DataRehabCenters.json', 'r') as f:\n",
    "    rehab_dict = json.load(f);"
   ]
  },
  {
   "cell_type": "code",
   "execution_count": 30,
   "metadata": {
    "collapsed": false
   },
   "outputs": [
    {
     "data": {
      "text/plain": [
       "<matplotlib.text.Text at 0x118661cd0>"
      ]
     },
     "execution_count": 30,
     "metadata": {},
     "output_type": "execute_result"
    },
    {
     "data": {
      "image/png": "[encoded data removed]",
      "text/plain": [
       "<matplotlib.figure.Figure at 0x118d83210>"
      ]
     },
     "metadata": {},
     "output_type": "display_data"
    }
   ],
   "source": [
    "df = pd.DataFrame(rehab_dict)\n",
    "fig = plt.hist(df['n_facilities'], bins=np.arange(0, 51, 1)) #max(df['n_facilities'])\n",
    "plt.xlabel('Number of Facilities');\n",
    "plt.ylabel('Number of Counties')"
   ]
  },
  {
   "cell_type": "code",
   "execution_count": null,
   "metadata": {
    "collapsed": true
   },
   "outputs": [],
   "source": []
  }
 ],
 "metadata": {
  "kernelspec": {
   "display_name": "Python 2",
   "language": "python",
   "name": "python2"
  },
  "language_info": {
   "codemirror_mode": {
    "name": "ipython",
    "version": 2
   },
   "file_extension": ".py",
   "mimetype": "text/x-python",
   "name": "python",
   "nbconvert_exporter": "python",
   "pygments_lexer": "ipython2",
   "version": "2.7.13"
  }
 },
 "nbformat": 4,
 "nbformat_minor": 0
}
