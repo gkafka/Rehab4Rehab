{
 "cells": [
  {
   "cell_type": "markdown",
   "metadata": {},
   "source": [
    "# RehabModel\n",
    "\n",
    "This notebook loads the combined data, and models the mortality rate."
   ]
  },
  {
   "cell_type": "code",
   "execution_count": 26,
   "metadata": {
    "collapsed": true
   },
   "outputs": [],
   "source": [
    "%matplotlib inline\n",
    "\n",
    "from bs4 import BeautifulSoup\n",
    "import json\n",
    "import matplotlib as mpl\n",
    "import matplotlib.pyplot as plt\n",
    "import numpy as np\n",
    "import pandas as pd\n",
    "from sklearn import ensemble\n",
    "from sklearn import linear_model\n",
    "import scipy as sp\n",
    "import seaborn as sns\n",
    "import string\n",
    "import requests\n",
    "import time"
   ]
  },
  {
   "cell_type": "code",
   "execution_count": 3,
   "metadata": {
    "collapsed": false
   },
   "outputs": [
    {
     "name": "stdout",
     "output_type": "stream",
     "text": [
      "County                                                           object\n",
      "Death Rate Category Median                                      float64\n",
      "Estimated Age-adjusted Death Rate, 11 Categories (in ranges)     object\n",
      "FIPS                                                            float64\n",
      "FIPS State                                                      float64\n",
      "Opioid Claims                                                   float64\n",
      "Opioid Prescribing Rate                                         float64\n",
      "Overall Claims                                                  float64\n",
      "Part D Prescribers                                              float64\n",
      "Population                                                      float64\n",
      "ST                                                               object\n",
      "State                                                            object\n",
      "Year                                                            float64\n",
      "n_facilities                                                    float64\n",
      "dtype: object\n"
     ]
    },
    {
     "data": {
      "text/html": [
       "<div>\n",
       "<table border=\"1\" class=\"dataframe\">\n",
       "  <thead>\n",
       "    <tr style=\"text-align: right;\">\n",
       "      <th></th>\n",
       "      <th>County</th>\n",
       "      <th>Death Rate Category Median</th>\n",
       "      <th>Estimated Age-adjusted Death Rate, 11 Categories (in ranges)</th>\n",
       "      <th>FIPS</th>\n",
       "      <th>FIPS State</th>\n",
       "      <th>Opioid Claims</th>\n",
       "      <th>Opioid Prescribing Rate</th>\n",
       "      <th>Overall Claims</th>\n",
       "      <th>Part D Prescribers</th>\n",
       "      <th>Population</th>\n",
       "      <th>ST</th>\n",
       "      <th>State</th>\n",
       "      <th>Year</th>\n",
       "      <th>n_facilities</th>\n",
       "    </tr>\n",
       "  </thead>\n",
       "  <tbody>\n",
       "    <tr>\n",
       "      <th>14</th>\n",
       "      <td>autauga county</td>\n",
       "      <td>11</td>\n",
       "      <td>10.1-12</td>\n",
       "      <td>1001</td>\n",
       "      <td>1</td>\n",
       "      <td>20482</td>\n",
       "      <td>9.803002</td>\n",
       "      <td>208936</td>\n",
       "      <td>67</td>\n",
       "      <td>55136</td>\n",
       "      <td>AL</td>\n",
       "      <td>Alabama</td>\n",
       "      <td>2013</td>\n",
       "      <td>0</td>\n",
       "    </tr>\n",
       "    <tr>\n",
       "      <th>15</th>\n",
       "      <td>autauga county</td>\n",
       "      <td>11</td>\n",
       "      <td>10.1-12</td>\n",
       "      <td>1001</td>\n",
       "      <td>1</td>\n",
       "      <td>20355</td>\n",
       "      <td>9.724810</td>\n",
       "      <td>209310</td>\n",
       "      <td>67</td>\n",
       "      <td>55395</td>\n",
       "      <td>AL</td>\n",
       "      <td>Alabama</td>\n",
       "      <td>2014</td>\n",
       "      <td>0</td>\n",
       "    </tr>\n",
       "    <tr>\n",
       "      <th>30</th>\n",
       "      <td>baldwin county</td>\n",
       "      <td>19</td>\n",
       "      <td>18.1-20</td>\n",
       "      <td>1003</td>\n",
       "      <td>1</td>\n",
       "      <td>82517</td>\n",
       "      <td>9.151229</td>\n",
       "      <td>901704</td>\n",
       "      <td>407</td>\n",
       "      <td>195443</td>\n",
       "      <td>AL</td>\n",
       "      <td>Alabama</td>\n",
       "      <td>2013</td>\n",
       "      <td>16</td>\n",
       "    </tr>\n",
       "    <tr>\n",
       "      <th>31</th>\n",
       "      <td>baldwin county</td>\n",
       "      <td>19</td>\n",
       "      <td>18.1-20</td>\n",
       "      <td>1003</td>\n",
       "      <td>1</td>\n",
       "      <td>81866</td>\n",
       "      <td>9.052919</td>\n",
       "      <td>904305</td>\n",
       "      <td>425</td>\n",
       "      <td>200111</td>\n",
       "      <td>AL</td>\n",
       "      <td>Alabama</td>\n",
       "      <td>2014</td>\n",
       "      <td>16</td>\n",
       "    </tr>\n",
       "    <tr>\n",
       "      <th>46</th>\n",
       "      <td>barbour county</td>\n",
       "      <td>7</td>\n",
       "      <td>6.1-8</td>\n",
       "      <td>1005</td>\n",
       "      <td>1</td>\n",
       "      <td>8935</td>\n",
       "      <td>6.278679</td>\n",
       "      <td>142307</td>\n",
       "      <td>33</td>\n",
       "      <td>26978</td>\n",
       "      <td>AL</td>\n",
       "      <td>Alabama</td>\n",
       "      <td>2013</td>\n",
       "      <td>0</td>\n",
       "    </tr>\n",
       "  </tbody>\n",
       "</table>\n",
       "</div>"
      ],
      "text/plain": [
       "            County  Death Rate Category Median  \\\n",
       "14  autauga county                          11   \n",
       "15  autauga county                          11   \n",
       "30  baldwin county                          19   \n",
       "31  baldwin county                          19   \n",
       "46  barbour county                           7   \n",
       "\n",
       "   Estimated Age-adjusted Death Rate, 11 Categories (in ranges)  FIPS  \\\n",
       "14                                            10.1-12            1001   \n",
       "15                                            10.1-12            1001   \n",
       "30                                            18.1-20            1003   \n",
       "31                                            18.1-20            1003   \n",
       "46                                              6.1-8            1005   \n",
       "\n",
       "    FIPS State  Opioid Claims  Opioid Prescribing Rate  Overall Claims  \\\n",
       "14           1          20482                 9.803002          208936   \n",
       "15           1          20355                 9.724810          209310   \n",
       "30           1          82517                 9.151229          901704   \n",
       "31           1          81866                 9.052919          904305   \n",
       "46           1           8935                 6.278679          142307   \n",
       "\n",
       "    Part D Prescribers  Population  ST    State  Year  n_facilities  \n",
       "14                  67       55136  AL  Alabama  2013             0  \n",
       "15                  67       55395  AL  Alabama  2014             0  \n",
       "30                 407      195443  AL  Alabama  2013            16  \n",
       "31                 425      200111  AL  Alabama  2014            16  \n",
       "46                  33       26978  AL  Alabama  2013             0  "
      ]
     },
     "execution_count": 3,
     "metadata": {},
     "output_type": "execute_result"
    }
   ],
   "source": [
    "with open('DataCombined.json', 'r') as f:\n",
    "    d = json.load(f);\n",
    "\n",
    "df = pd.DataFrame(d);\n",
    "df.index = df.index.astype(int);\n",
    "df.sort_index(inplace=True);\n",
    "print df.dtypes\n",
    "df.head()"
   ]
  },
  {
   "cell_type": "code",
   "execution_count": 5,
   "metadata": {
    "collapsed": false
   },
   "outputs": [
    {
     "name": "stdout",
     "output_type": "stream",
     "text": [
      "County                                                           object\n",
      "Death Rate Category Median                                        int64\n",
      "Estimated Age-adjusted Death Rate, 11 Categories (in ranges)     object\n",
      "FIPS                                                              int64\n",
      "FIPS State                                                        int64\n",
      "Opioid Claims                                                     int64\n",
      "Opioid Prescribing Rate                                         float64\n",
      "Overall Claims                                                    int64\n",
      "Part D Prescribers                                                int64\n",
      "Population                                                        int64\n",
      "ST                                                               object\n",
      "State                                                            object\n",
      "Year                                                              int64\n",
      "n_facilities                                                      int64\n",
      "dtype: object\n"
     ]
    }
   ],
   "source": [
    "df['Death Rate Category Median'] = df['Death Rate Category Median'].astype(int);\n",
    "df['FIPS'] = df['FIPS'].astype(int);\n",
    "df['FIPS State'] = df['FIPS State'].astype(int);\n",
    "df['Opioid Claims'] = df['Opioid Claims'].astype(int);\n",
    "df['Overall Claims'] = df['Overall Claims'].astype(int);\n",
    "df['Part D Prescribers'] = df['Part D Prescribers'].astype(int);\n",
    "df['Population'] = df['Population'].astype(int);\n",
    "df['Year'] = df['Year'].astype(int);\n",
    "df['n_facilities'] = df['n_facilities'].astype(int);\n",
    "print df.dtypes"
   ]
  },
  {
   "cell_type": "code",
   "execution_count": 23,
   "metadata": {
    "collapsed": false
   },
   "outputs": [
    {
     "data": {
      "text/html": [
       "<div>\n",
       "<table border=\"1\" class=\"dataframe\">\n",
       "  <thead>\n",
       "    <tr style=\"text-align: right;\">\n",
       "      <th></th>\n",
       "      <th>County</th>\n",
       "      <th>Death Rate Category Median</th>\n",
       "      <th>Estimated Age-adjusted Death Rate, 11 Categories (in ranges)</th>\n",
       "      <th>FIPS</th>\n",
       "      <th>FIPS State</th>\n",
       "      <th>Opioid Claims</th>\n",
       "      <th>Opioid Prescribing Rate</th>\n",
       "      <th>Overall Claims</th>\n",
       "      <th>Part D Prescribers</th>\n",
       "      <th>Population</th>\n",
       "      <th>ST</th>\n",
       "      <th>State</th>\n",
       "      <th>Year</th>\n",
       "      <th>n_facilities</th>\n",
       "    </tr>\n",
       "  </thead>\n",
       "  <tbody>\n",
       "    <tr>\n",
       "      <th>14</th>\n",
       "      <td>autauga county</td>\n",
       "      <td>11</td>\n",
       "      <td>10.1-12</td>\n",
       "      <td>1001</td>\n",
       "      <td>1</td>\n",
       "      <td>-0.074588</td>\n",
       "      <td>1.692394</td>\n",
       "      <td>-0.173576</td>\n",
       "      <td>-0.221696</td>\n",
       "      <td>-0.147239</td>\n",
       "      <td>AL</td>\n",
       "      <td>Alabama</td>\n",
       "      <td>2013</td>\n",
       "      <td>-0.233942</td>\n",
       "    </tr>\n",
       "    <tr>\n",
       "      <th>15</th>\n",
       "      <td>autauga county</td>\n",
       "      <td>11</td>\n",
       "      <td>10.1-12</td>\n",
       "      <td>1001</td>\n",
       "      <td>1</td>\n",
       "      <td>-0.076522</td>\n",
       "      <td>1.658269</td>\n",
       "      <td>-0.173294</td>\n",
       "      <td>-0.221696</td>\n",
       "      <td>-0.146450</td>\n",
       "      <td>AL</td>\n",
       "      <td>Alabama</td>\n",
       "      <td>2014</td>\n",
       "      <td>-0.233942</td>\n",
       "    </tr>\n",
       "    <tr>\n",
       "      <th>30</th>\n",
       "      <td>baldwin county</td>\n",
       "      <td>19</td>\n",
       "      <td>18.1-20</td>\n",
       "      <td>1003</td>\n",
       "      <td>1</td>\n",
       "      <td>0.869918</td>\n",
       "      <td>1.407938</td>\n",
       "      <td>0.348800</td>\n",
       "      <td>0.063540</td>\n",
       "      <td>0.280314</td>\n",
       "      <td>AL</td>\n",
       "      <td>Alabama</td>\n",
       "      <td>2013</td>\n",
       "      <td>1.568428</td>\n",
       "    </tr>\n",
       "    <tr>\n",
       "      <th>31</th>\n",
       "      <td>baldwin county</td>\n",
       "      <td>19</td>\n",
       "      <td>18.1-20</td>\n",
       "      <td>1003</td>\n",
       "      <td>1</td>\n",
       "      <td>0.860006</td>\n",
       "      <td>1.365033</td>\n",
       "      <td>0.350761</td>\n",
       "      <td>0.078641</td>\n",
       "      <td>0.294539</td>\n",
       "      <td>AL</td>\n",
       "      <td>Alabama</td>\n",
       "      <td>2014</td>\n",
       "      <td>1.568428</td>\n",
       "    </tr>\n",
       "    <tr>\n",
       "      <th>46</th>\n",
       "      <td>barbour county</td>\n",
       "      <td>7</td>\n",
       "      <td>6.1-8</td>\n",
       "      <td>1005</td>\n",
       "      <td>1</td>\n",
       "      <td>-0.250396</td>\n",
       "      <td>0.154259</td>\n",
       "      <td>-0.223817</td>\n",
       "      <td>-0.250219</td>\n",
       "      <td>-0.233045</td>\n",
       "      <td>AL</td>\n",
       "      <td>Alabama</td>\n",
       "      <td>2013</td>\n",
       "      <td>-0.233942</td>\n",
       "    </tr>\n",
       "  </tbody>\n",
       "</table>\n",
       "</div>"
      ],
      "text/plain": [
       "            County  Death Rate Category Median  \\\n",
       "14  autauga county                          11   \n",
       "15  autauga county                          11   \n",
       "30  baldwin county                          19   \n",
       "31  baldwin county                          19   \n",
       "46  barbour county                           7   \n",
       "\n",
       "   Estimated Age-adjusted Death Rate, 11 Categories (in ranges)  FIPS  \\\n",
       "14                                            10.1-12            1001   \n",
       "15                                            10.1-12            1001   \n",
       "30                                            18.1-20            1003   \n",
       "31                                            18.1-20            1003   \n",
       "46                                              6.1-8            1005   \n",
       "\n",
       "    FIPS State  Opioid Claims  Opioid Prescribing Rate  Overall Claims  \\\n",
       "14           1      -0.074588                 1.692394       -0.173576   \n",
       "15           1      -0.076522                 1.658269       -0.173294   \n",
       "30           1       0.869918                 1.407938        0.348800   \n",
       "31           1       0.860006                 1.365033        0.350761   \n",
       "46           1      -0.250396                 0.154259       -0.223817   \n",
       "\n",
       "    Part D Prescribers  Population  ST    State  Year  n_facilities  \n",
       "14           -0.221696   -0.147239  AL  Alabama  2013     -0.233942  \n",
       "15           -0.221696   -0.146450  AL  Alabama  2014     -0.233942  \n",
       "30            0.063540    0.280314  AL  Alabama  2013      1.568428  \n",
       "31            0.078641    0.294539  AL  Alabama  2014      1.568428  \n",
       "46           -0.250219   -0.233045  AL  Alabama  2013     -0.233942  "
      ]
     },
     "execution_count": 23,
     "metadata": {},
     "output_type": "execute_result"
    }
   ],
   "source": [
    "df_trim = df.copy();\n",
    "\n",
    "cols_to_use = ['Opioid Claims', 'Opioid Prescribing Rate', 'Overall Claims',\n",
    "               'Part D Prescribers', 'Population', 'n_facilities'];\n",
    "means = {};\n",
    "stdvs = {};\n",
    "for col in cols_to_use:\n",
    "    means[col] = np.mean(df_trim[col]);\n",
    "    stdvs[col] = np.std(df_trim[col]);\n",
    "    df_trim[col] = (df_trim[col] - means[col])/stdvs[col];\n",
    "\n",
    "df_trim.head()"
   ]
  },
  {
   "cell_type": "code",
   "execution_count": 27,
   "metadata": {
    "collapsed": false
   },
   "outputs": [],
   "source": [
    "x_train = df_trim[df_trim['Year'] == 2013];\n",
    "y_train = x_train['Death Rate Category Median'];\n",
    "\n",
    "x_test  = df_trim[df_trim['Year'] == 2014];\n",
    "y_test  = x_test['Death Rate Category Median'];"
   ]
  },
  {
   "cell_type": "code",
   "execution_count": 55,
   "metadata": {
    "collapsed": false
   },
   "outputs": [
    {
     "name": "stdout",
     "output_type": "stream",
     "text": [
      "[ 1.6896745   1.43592223  0.4879037   0.04471569 -1.85653804  0.14261334]\n",
      "0.112600298729\n"
     ]
    }
   ],
   "source": [
    "lr = linear_model.LinearRegression();\n",
    "lr.fit(x_train[cols_to_use], y_train);\n",
    "print lr.coef_;\n",
    "print lr.score(x_train[cols_to_use], y_train);\n",
    "\n",
    "pred_train = lr.predict(x_train[cols_to_use]);\n",
    "pred_test = lr.predict(x_test[cols_to_use]);"
   ]
  },
  {
   "cell_type": "code",
   "execution_count": 56,
   "metadata": {
    "collapsed": false
   },
   "outputs": [
    {
     "data": {
      "image/png": "[encoded data removed]",
      "text/plain": [
       "<matplotlib.figure.Figure at 0x113463510>"
      ]
     },
     "metadata": {},
     "output_type": "display_data"
    }
   ],
   "source": [
    "fig, [axL, axR] = plt.subplots(nrows=1, ncols=2, figsize=(12,5), sharey=True);\n",
    "axL.scatter(pred_train, y_train);\n",
    "axL.set_xlabel('Predicted Rate (Training)');\n",
    "axL.xaxis.label.set_fontsize(16);\n",
    "axL.set_xlim(0,22);\n",
    "axL.set_ylabel('Actual Rate');\n",
    "axL.yaxis.label.set_fontsize(16);\n",
    "axL.set_ylim(0,22);\n",
    "\n",
    "axR.scatter(pred_test, y_test);\n",
    "axR.set_xlabel('Predicted Rate (Testing)');\n",
    "axR.xaxis.label.set_fontsize(16);\n",
    "axR.set_xlim(0,22);"
   ]
  },
  {
   "cell_type": "code",
   "execution_count": 57,
   "metadata": {
    "collapsed": false
   },
   "outputs": [
    {
     "name": "stdout",
     "output_type": "stream",
     "text": [
      "[ 0.12845357  0.33394194  0.1277632   0.14439941  0.22936718  0.0360747 ]\n"
     ]
    }
   ],
   "source": [
    "rf = ensemble.RandomForestRegressor();\n",
    "rf.fit(x_train[cols_to_use], y_train);\n",
    "print rf.feature_importances_;\n",
    "\n",
    "pred_train = rf.predict(x_train[cols_to_use]);\n",
    "pred_test = rf.predict(x_test[cols_to_use]);"
   ]
  },
  {
   "cell_type": "code",
   "execution_count": 58,
   "metadata": {
    "collapsed": false
   },
   "outputs": [
    {
     "data": {
      "image/png": "[encoded data removed]",
      "text/plain": [
       "<matplotlib.figure.Figure at 0x113202350>"
      ]
     },
     "metadata": {},
     "output_type": "display_data"
    }
   ],
   "source": [
    "fig, [axL, axR] = plt.subplots(nrows=1, ncols=2, figsize=(12,5), sharey=True);\n",
    "axL.scatter(pred_train, y_train);\n",
    "axL.set_xlabel('Predicted Rate (Training)');\n",
    "axL.xaxis.label.set_fontsize(16);\n",
    "axL.set_xlim(0,22);\n",
    "axL.set_ylabel('Actual Rate');\n",
    "axL.yaxis.label.set_fontsize(16);\n",
    "axL.set_ylim(0,22);\n",
    "\n",
    "axR.scatter(pred_test, y_test);\n",
    "axR.set_xlabel('Predicted Rate (Testing)');\n",
    "axR.xaxis.label.set_fontsize(16);\n",
    "axR.set_xlim(0,22);"
   ]
  },
  {
   "cell_type": "code",
   "execution_count": null,
   "metadata": {
    "collapsed": true
   },
   "outputs": [],
   "source": []
  }
 ],
 "metadata": {
  "kernelspec": {
   "display_name": "Python 2",
   "language": "python",
   "name": "python2"
  },
  "language_info": {
   "codemirror_mode": {
    "name": "ipython",
    "version": 2
   },
   "file_extension": ".py",
   "mimetype": "text/x-python",
   "name": "python",
   "nbconvert_exporter": "python",
   "pygments_lexer": "ipython2",
   "version": "2.7.13"
  }
 },
 "nbformat": 4,
 "nbformat_minor": 0
}
