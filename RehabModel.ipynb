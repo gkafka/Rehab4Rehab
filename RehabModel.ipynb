{
 "cells": [
  {
   "cell_type": "markdown",
   "metadata": {},
   "source": [
    "# RehabModel\n",
    "\n",
    "This notebook takes all of the data outputs from the various GetData notebooks, combines them, and creates a model to predict the drug poison mortality rate."
   ]
  },
  {
   "cell_type": "code",
   "execution_count": 1,
   "metadata": {
    "collapsed": true
   },
   "outputs": [],
   "source": [
    "%matplotlib inline\n",
    "\n",
    "from bs4 import BeautifulSoup\n",
    "import json\n",
    "import matplotlib as mpl\n",
    "import matplotlib.pyplot as plt\n",
    "import numpy as np\n",
    "import pandas as pd\n",
    "import scipy as sp\n",
    "import seaborn as sns\n",
    "import string\n",
    "import requests\n",
    "import time"
   ]
  },
  {
   "cell_type": "markdown",
   "metadata": {},
   "source": [
    "Pull the dictionaries from the json files, convert them to dataframes, and set the index to an integer type."
   ]
  },
  {
   "cell_type": "code",
   "execution_count": 2,
   "metadata": {
    "collapsed": true
   },
   "outputs": [],
   "source": [
    "with open('DataRehabCenters.json', 'r') as f:\n",
    "    rehab_dict = json.load(f);\n",
    "with open('DataMortality.json', 'r') as f:\n",
    "    mortality_dict = json.load(f);\n",
    "with open('DataPrescriptionMedicare.json', 'r') as f:\n",
    "    prescription_dict = json.load(f);\n",
    "\n",
    "rehab_df = pd.DataFrame(rehab_dict);\n",
    "\n",
    "mortality_df = pd.DataFrame(mortality_dict);\n",
    "mortality_df.index = mortality_df.index.astype(int);\n",
    "mortality_df.sort_index(inplace=True);\n",
    "\n",
    "prescription_df = pd.DataFrame(prescription_dict);\n",
    "prescription_df.index = prescription_df.index.astype(int);\n",
    "prescription_df.sort_index(inplace=True);"
   ]
  },
  {
   "cell_type": "markdown",
   "metadata": {},
   "source": [
    "Set consistent labels! Print the data types of the columns to scan for potential issues. Many of the mortality dataframe objects should be integers, but are just strings."
   ]
  },
  {
   "cell_type": "code",
   "execution_count": 3,
   "metadata": {
    "collapsed": false
   },
   "outputs": [
    {
     "name": "stdout",
     "output_type": "stream",
     "text": [
      "Rehab df types:\n",
      "County          object\n",
      "n_facilities     int64\n",
      "ST              object\n",
      "dtype: object\n",
      "\n",
      "Mortality df types:\n",
      "County                                                          object\n",
      "Estimated Age-adjusted Death Rate, 11 Categories (in ranges)    object\n",
      "FIPS                                                            object\n",
      "FIPS State                                                      object\n",
      "Population                                                      object\n",
      "ST                                                              object\n",
      "State                                                           object\n",
      "Year                                                            object\n",
      "dtype: object\n",
      "\n",
      "Prescription df types:\n",
      "County                      object\n",
      "FIPS                         int64\n",
      "FIPS State                   int64\n",
      "Opioid Claims              float64\n",
      "Opioid Prescribing Rate    float64\n",
      "Overall Claims             float64\n",
      "Part D Prescribers         float64\n",
      "ST                          object\n",
      "State                       object\n",
      "Year                         int64\n",
      "dtype: object\n"
     ]
    }
   ],
   "source": [
    "rename_dict = {'state':'ST', 'county':'County'};\n",
    "rehab_df.rename(columns=rename_dict, inplace=True);\n",
    "\n",
    "print \"Rehab df types:\"\n",
    "print rehab_df.dtypes\n",
    "print \"\\nMortality df types:\"\n",
    "print mortality_df.dtypes\n",
    "print \"\\nPrescription df types:\"\n",
    "print prescription_df.dtypes"
   ]
  },
  {
   "cell_type": "markdown",
   "metadata": {},
   "source": [
    "Set the FIPS, FIPS State, Population, and Year columns as integer type for the mortality dict. This requires first replacing NaNs as some value, and resetting the values to NaN after the conversion. (This actually promotes the data type from integer to float, but since the real desire is for a numerical type, this is fine.)"
   ]
  },
  {
   "cell_type": "code",
   "execution_count": 4,
   "metadata": {
    "collapsed": false
   },
   "outputs": [
    {
     "data": {
      "text/html": [
       "<div>\n",
       "<table border=\"1\" class=\"dataframe\">\n",
       "  <thead>\n",
       "    <tr style=\"text-align: right;\">\n",
       "      <th></th>\n",
       "      <th>County</th>\n",
       "      <th>Estimated Age-adjusted Death Rate, 11 Categories (in ranges)</th>\n",
       "      <th>FIPS</th>\n",
       "      <th>FIPS State</th>\n",
       "      <th>Population</th>\n",
       "      <th>ST</th>\n",
       "      <th>State</th>\n",
       "      <th>Year</th>\n",
       "    </tr>\n",
       "  </thead>\n",
       "  <tbody>\n",
       "    <tr>\n",
       "      <th>0</th>\n",
       "      <td>Autauga County, AL</td>\n",
       "      <td>2.1-4</td>\n",
       "      <td>1001</td>\n",
       "      <td>1</td>\n",
       "      <td>42963</td>\n",
       "      <td>AL</td>\n",
       "      <td>Alabama</td>\n",
       "      <td>1999</td>\n",
       "    </tr>\n",
       "    <tr>\n",
       "      <th>1</th>\n",
       "      <td>Autauga County, AL</td>\n",
       "      <td>4.1-6</td>\n",
       "      <td>1001</td>\n",
       "      <td>1</td>\n",
       "      <td>44021</td>\n",
       "      <td>AL</td>\n",
       "      <td>Alabama</td>\n",
       "      <td>2000</td>\n",
       "    </tr>\n",
       "    <tr>\n",
       "      <th>2</th>\n",
       "      <td>Autauga County, AL</td>\n",
       "      <td>4.1-6</td>\n",
       "      <td>1001</td>\n",
       "      <td>1</td>\n",
       "      <td>44889</td>\n",
       "      <td>AL</td>\n",
       "      <td>Alabama</td>\n",
       "      <td>2001</td>\n",
       "    </tr>\n",
       "    <tr>\n",
       "      <th>3</th>\n",
       "      <td>Autauga County, AL</td>\n",
       "      <td>4.1-6</td>\n",
       "      <td>1001</td>\n",
       "      <td>1</td>\n",
       "      <td>45909</td>\n",
       "      <td>AL</td>\n",
       "      <td>Alabama</td>\n",
       "      <td>2002</td>\n",
       "    </tr>\n",
       "    <tr>\n",
       "      <th>4</th>\n",
       "      <td>Autauga County, AL</td>\n",
       "      <td>4.1-6</td>\n",
       "      <td>1001</td>\n",
       "      <td>1</td>\n",
       "      <td>46800</td>\n",
       "      <td>AL</td>\n",
       "      <td>Alabama</td>\n",
       "      <td>2003</td>\n",
       "    </tr>\n",
       "  </tbody>\n",
       "</table>\n",
       "</div>"
      ],
      "text/plain": [
       "               County  \\\n",
       "0  Autauga County, AL   \n",
       "1  Autauga County, AL   \n",
       "2  Autauga County, AL   \n",
       "3  Autauga County, AL   \n",
       "4  Autauga County, AL   \n",
       "\n",
       "  Estimated Age-adjusted Death Rate, 11 Categories (in ranges)  FIPS  \\\n",
       "0                                              2.1-4            1001   \n",
       "1                                              4.1-6            1001   \n",
       "2                                              4.1-6            1001   \n",
       "3                                              4.1-6            1001   \n",
       "4                                              4.1-6            1001   \n",
       "\n",
       "   FIPS State  Population  ST    State  Year  \n",
       "0           1       42963  AL  Alabama  1999  \n",
       "1           1       44021  AL  Alabama  2000  \n",
       "2           1       44889  AL  Alabama  2001  \n",
       "3           1       45909  AL  Alabama  2002  \n",
       "4           1       46800  AL  Alabama  2003  "
      ]
     },
     "execution_count": 4,
     "metadata": {},
     "output_type": "execute_result"
    }
   ],
   "source": [
    "mortality_df.fillna('-1', inplace=True);\n",
    "\n",
    "mortality_df['FIPS'] = mortality_df['FIPS'].astype(int);\n",
    "mortality_df['FIPS State'] = mortality_df['FIPS State'].astype(int);\n",
    "mortality_df['Population'] = mortality_df['Population'].astype(int);\n",
    "mortality_df['Year'] = mortality_df['Year'].astype(int);\n",
    "\n",
    "mortality_df.replace({'Population': {-1:np.nan}}, inplace=True);\n",
    "\n",
    "mortality_df.head()"
   ]
  },
  {
   "cell_type": "markdown",
   "metadata": {},
   "source": [
    "Add a new column that converts \"Estimated Age-adjusted Death Rate\" to a numerical type. Pull a list of all possible values of the original columns by grouping the dataframe (e.g., 2.1-4 or >20), split the string on punctuation, take the last word (e.g., 4 or 20), and add one for the case of '>20', otherwise subtract 1."
   ]
  },
  {
   "cell_type": "code",
   "execution_count": 5,
   "metadata": {
    "collapsed": false
   },
   "outputs": [
    {
     "data": {
      "text/html": [
       "<div>\n",
       "<table border=\"1\" class=\"dataframe\">\n",
       "  <thead>\n",
       "    <tr style=\"text-align: right;\">\n",
       "      <th></th>\n",
       "      <th>County</th>\n",
       "      <th>Estimated Age-adjusted Death Rate, 11 Categories (in ranges)</th>\n",
       "      <th>FIPS</th>\n",
       "      <th>FIPS State</th>\n",
       "      <th>Population</th>\n",
       "      <th>ST</th>\n",
       "      <th>State</th>\n",
       "      <th>Year</th>\n",
       "      <th>Death Rate Category Median</th>\n",
       "    </tr>\n",
       "  </thead>\n",
       "  <tbody>\n",
       "    <tr>\n",
       "      <th>0</th>\n",
       "      <td>Autauga County, AL</td>\n",
       "      <td>2.1-4</td>\n",
       "      <td>1001</td>\n",
       "      <td>1</td>\n",
       "      <td>42963</td>\n",
       "      <td>AL</td>\n",
       "      <td>Alabama</td>\n",
       "      <td>1999</td>\n",
       "      <td>3</td>\n",
       "    </tr>\n",
       "    <tr>\n",
       "      <th>1</th>\n",
       "      <td>Autauga County, AL</td>\n",
       "      <td>4.1-6</td>\n",
       "      <td>1001</td>\n",
       "      <td>1</td>\n",
       "      <td>44021</td>\n",
       "      <td>AL</td>\n",
       "      <td>Alabama</td>\n",
       "      <td>2000</td>\n",
       "      <td>5</td>\n",
       "    </tr>\n",
       "    <tr>\n",
       "      <th>2</th>\n",
       "      <td>Autauga County, AL</td>\n",
       "      <td>4.1-6</td>\n",
       "      <td>1001</td>\n",
       "      <td>1</td>\n",
       "      <td>44889</td>\n",
       "      <td>AL</td>\n",
       "      <td>Alabama</td>\n",
       "      <td>2001</td>\n",
       "      <td>5</td>\n",
       "    </tr>\n",
       "    <tr>\n",
       "      <th>3</th>\n",
       "      <td>Autauga County, AL</td>\n",
       "      <td>4.1-6</td>\n",
       "      <td>1001</td>\n",
       "      <td>1</td>\n",
       "      <td>45909</td>\n",
       "      <td>AL</td>\n",
       "      <td>Alabama</td>\n",
       "      <td>2002</td>\n",
       "      <td>5</td>\n",
       "    </tr>\n",
       "    <tr>\n",
       "      <th>4</th>\n",
       "      <td>Autauga County, AL</td>\n",
       "      <td>4.1-6</td>\n",
       "      <td>1001</td>\n",
       "      <td>1</td>\n",
       "      <td>46800</td>\n",
       "      <td>AL</td>\n",
       "      <td>Alabama</td>\n",
       "      <td>2003</td>\n",
       "      <td>5</td>\n",
       "    </tr>\n",
       "  </tbody>\n",
       "</table>\n",
       "</div>"
      ],
      "text/plain": [
       "               County  \\\n",
       "0  Autauga County, AL   \n",
       "1  Autauga County, AL   \n",
       "2  Autauga County, AL   \n",
       "3  Autauga County, AL   \n",
       "4  Autauga County, AL   \n",
       "\n",
       "  Estimated Age-adjusted Death Rate, 11 Categories (in ranges)  FIPS  \\\n",
       "0                                              2.1-4            1001   \n",
       "1                                              4.1-6            1001   \n",
       "2                                              4.1-6            1001   \n",
       "3                                              4.1-6            1001   \n",
       "4                                              4.1-6            1001   \n",
       "\n",
       "   FIPS State  Population  ST    State  Year  Death Rate Category Median  \n",
       "0           1       42963  AL  Alabama  1999                           3  \n",
       "1           1       44021  AL  Alabama  2000                           5  \n",
       "2           1       44889  AL  Alabama  2001                           5  \n",
       "3           1       45909  AL  Alabama  2002                           5  \n",
       "4           1       46800  AL  Alabama  2003                           5  "
      ]
     },
     "execution_count": 5,
     "metadata": {},
     "output_type": "execute_result"
    }
   ],
   "source": [
    "grouped_df = mortality_df.groupby('Estimated Age-adjusted Death Rate, 11 Categories (in ranges)');\n",
    "\n",
    "death_rate_map = {};\n",
    "death_rate_list = grouped_df.groups.keys();\n",
    "for rate in death_rate_list:\n",
    "    if('>' in rate):\n",
    "        death_rate_map[rate] = int(rate.split('>')[-1])+1;\n",
    "    else:\n",
    "        death_rate_map[rate] = int(rate.split('-')[-1])-1;\n",
    "\n",
    "mortality_df['Death Rate Category Median'] = [death_rate_map[rate] for rate in\n",
    "    mortality_df['Estimated Age-adjusted Death Rate, 11 Categories (in ranges)'].values];\n",
    "mortality_df.head()"
   ]
  },
  {
   "cell_type": "markdown",
   "metadata": {},
   "source": [
    "In order to join the datasets, the county names need to be as good a match as possible. The common errors are when the county is listed as a parish or borough, and how the word 'saint' is written (i.e., Saint, St, or St.). This function makes everything lower case, calls everything a county, and sets all versions of 'saint' to 'saint'."
   ]
  },
  {
   "cell_type": "code",
   "execution_count": 6,
   "metadata": {
    "collapsed": true
   },
   "outputs": [],
   "source": [
    "def fix_county(word):\n",
    "    new_word = word.lower().replace('.', '');\n",
    "    new_word = new_word.replace('saint','st');\n",
    "    new_word = new_word.split(',')[0]\n",
    "    if ('county' in new_word) and ('parish' in new_word):\n",
    "        new_word = new_word.replace(' parish','');\n",
    "    if ('county' in new_word) and ('borough' in new_word):\n",
    "        new_word = new_word.replace(' borough','');\n",
    "    if 'parish' in new_word:\n",
    "        new_word = new_word.replace('parish','county');\n",
    "    if 'borough' in new_word:\n",
    "        new_word = new_word.replace('borough','county');\n",
    "    if 'county' not in new_word:\n",
    "        new_word = ' '.join([new_word, 'county']);\n",
    "    return new_word"
   ]
  },
  {
   "cell_type": "markdown",
   "metadata": {},
   "source": [
    "Use the above function to standardize the county names. Manually fix the outstanding issues."
   ]
  },
  {
   "cell_type": "code",
   "execution_count": 7,
   "metadata": {
    "collapsed": false
   },
   "outputs": [],
   "source": [
    "rehab_df['County']        = rehab_df['County'].apply(fix_county);\n",
    "mortality_df['County']    = mortality_df['County'].apply(fix_county);\n",
    "prescription_df['County'] = prescription_df['County'].apply(fix_county);\n",
    "\n",
    "rehab_df.set_value(183,  'County', \"prince george's county\");\n",
    "rehab_df.set_value(299,  'County', 'la porte county');\n",
    "rehab_df.set_value(667,  'County', 'kauai county');\n",
    "rehab_df.set_value(1068, 'County', \"anchorage county\");\n",
    "rehab_df.set_value(1117, 'County', \"queen anne's county\");\n",
    "mortality_df.set_value(10288, 'County', \"lasalle county\");\n",
    "mortality_df.set_value(36525, 'County', \"mckean county\");"
   ]
  },
  {
   "cell_type": "markdown",
   "metadata": {},
   "source": [
    "Merge all of the datasets!\n",
    "\n",
    "Merge the mortality and prescription dataframes on several columns that should match. There are several outstanding mismatches in the county names between these dataframes that almost entirely encompass city/county entities that are inconsistently labeled. The remaining mismatches are from the 'unorganized borough' of Alaska, which will be dropped later. Thus, the county is not used as a key, and the county column from the prescription dataframe is dropped.\n",
    "\n",
    "The rehab dataframe is merged with the result without special considerations."
   ]
  },
  {
   "cell_type": "code",
   "execution_count": 8,
   "metadata": {
    "collapsed": false
   },
   "outputs": [
    {
     "name": "stdout",
     "output_type": "stream",
     "text": [
      "(50261, 14)\n"
     ]
    },
    {
     "data": {
      "text/html": [
       "<div>\n",
       "<table border=\"1\" class=\"dataframe\">\n",
       "  <thead>\n",
       "    <tr style=\"text-align: right;\">\n",
       "      <th></th>\n",
       "      <th>County</th>\n",
       "      <th>Estimated Age-adjusted Death Rate, 11 Categories (in ranges)</th>\n",
       "      <th>FIPS</th>\n",
       "      <th>FIPS State</th>\n",
       "      <th>Population</th>\n",
       "      <th>ST</th>\n",
       "      <th>State</th>\n",
       "      <th>Year</th>\n",
       "      <th>Death Rate Category Median</th>\n",
       "      <th>Opioid Claims</th>\n",
       "      <th>Opioid Prescribing Rate</th>\n",
       "      <th>Overall Claims</th>\n",
       "      <th>Part D Prescribers</th>\n",
       "      <th>n_facilities</th>\n",
       "    </tr>\n",
       "  </thead>\n",
       "  <tbody>\n",
       "    <tr>\n",
       "      <th>0</th>\n",
       "      <td>autauga county</td>\n",
       "      <td>2.1-4</td>\n",
       "      <td>1001</td>\n",
       "      <td>1</td>\n",
       "      <td>42963</td>\n",
       "      <td>AL</td>\n",
       "      <td>Alabama</td>\n",
       "      <td>1999</td>\n",
       "      <td>3</td>\n",
       "      <td>NaN</td>\n",
       "      <td>NaN</td>\n",
       "      <td>NaN</td>\n",
       "      <td>NaN</td>\n",
       "      <td>NaN</td>\n",
       "    </tr>\n",
       "    <tr>\n",
       "      <th>1</th>\n",
       "      <td>autauga county</td>\n",
       "      <td>4.1-6</td>\n",
       "      <td>1001</td>\n",
       "      <td>1</td>\n",
       "      <td>44021</td>\n",
       "      <td>AL</td>\n",
       "      <td>Alabama</td>\n",
       "      <td>2000</td>\n",
       "      <td>5</td>\n",
       "      <td>NaN</td>\n",
       "      <td>NaN</td>\n",
       "      <td>NaN</td>\n",
       "      <td>NaN</td>\n",
       "      <td>NaN</td>\n",
       "    </tr>\n",
       "    <tr>\n",
       "      <th>2</th>\n",
       "      <td>autauga county</td>\n",
       "      <td>4.1-6</td>\n",
       "      <td>1001</td>\n",
       "      <td>1</td>\n",
       "      <td>44889</td>\n",
       "      <td>AL</td>\n",
       "      <td>Alabama</td>\n",
       "      <td>2001</td>\n",
       "      <td>5</td>\n",
       "      <td>NaN</td>\n",
       "      <td>NaN</td>\n",
       "      <td>NaN</td>\n",
       "      <td>NaN</td>\n",
       "      <td>NaN</td>\n",
       "    </tr>\n",
       "    <tr>\n",
       "      <th>3</th>\n",
       "      <td>autauga county</td>\n",
       "      <td>4.1-6</td>\n",
       "      <td>1001</td>\n",
       "      <td>1</td>\n",
       "      <td>45909</td>\n",
       "      <td>AL</td>\n",
       "      <td>Alabama</td>\n",
       "      <td>2002</td>\n",
       "      <td>5</td>\n",
       "      <td>NaN</td>\n",
       "      <td>NaN</td>\n",
       "      <td>NaN</td>\n",
       "      <td>NaN</td>\n",
       "      <td>NaN</td>\n",
       "    </tr>\n",
       "    <tr>\n",
       "      <th>4</th>\n",
       "      <td>autauga county</td>\n",
       "      <td>4.1-6</td>\n",
       "      <td>1001</td>\n",
       "      <td>1</td>\n",
       "      <td>46800</td>\n",
       "      <td>AL</td>\n",
       "      <td>Alabama</td>\n",
       "      <td>2003</td>\n",
       "      <td>5</td>\n",
       "      <td>NaN</td>\n",
       "      <td>NaN</td>\n",
       "      <td>NaN</td>\n",
       "      <td>NaN</td>\n",
       "      <td>NaN</td>\n",
       "    </tr>\n",
       "  </tbody>\n",
       "</table>\n",
       "</div>"
      ],
      "text/plain": [
       "           County  \\\n",
       "0  autauga county   \n",
       "1  autauga county   \n",
       "2  autauga county   \n",
       "3  autauga county   \n",
       "4  autauga county   \n",
       "\n",
       "  Estimated Age-adjusted Death Rate, 11 Categories (in ranges)  FIPS  \\\n",
       "0                                              2.1-4            1001   \n",
       "1                                              4.1-6            1001   \n",
       "2                                              4.1-6            1001   \n",
       "3                                              4.1-6            1001   \n",
       "4                                              4.1-6            1001   \n",
       "\n",
       "   FIPS State  Population  ST    State  Year  Death Rate Category Median  \\\n",
       "0           1       42963  AL  Alabama  1999                           3   \n",
       "1           1       44021  AL  Alabama  2000                           5   \n",
       "2           1       44889  AL  Alabama  2001                           5   \n",
       "3           1       45909  AL  Alabama  2002                           5   \n",
       "4           1       46800  AL  Alabama  2003                           5   \n",
       "\n",
       "   Opioid Claims  Opioid Prescribing Rate  Overall Claims  Part D Prescribers  \\\n",
       "0            NaN                      NaN             NaN                 NaN   \n",
       "1            NaN                      NaN             NaN                 NaN   \n",
       "2            NaN                      NaN             NaN                 NaN   \n",
       "3            NaN                      NaN             NaN                 NaN   \n",
       "4            NaN                      NaN             NaN                 NaN   \n",
       "\n",
       "   n_facilities  \n",
       "0           NaN  \n",
       "1           NaN  \n",
       "2           NaN  \n",
       "3           NaN  \n",
       "4           NaN  "
      ]
     },
     "execution_count": 8,
     "metadata": {},
     "output_type": "execute_result"
    }
   ],
   "source": [
    "df = pd.merge(mortality_df, prescription_df, on=['FIPS', 'FIPS State', 'ST', 'State', 'Year'], how='outer');\n",
    "df.drop('County_y', axis=1, inplace=True);\n",
    "df.rename(columns={'County_x':'County'}, inplace=True);\n",
    "df = pd.merge(df, rehab_df, on=['County', 'ST'], how='outer');\n",
    "print df.shape;\n",
    "df.head()"
   ]
  },
  {
   "cell_type": "markdown",
   "metadata": {},
   "source": [
    "In order to use data where all fields are present, only keep records from 2013 and 2014. Fill the missing values for the number of facilities with 0, since there were no facilities found when scraping for these counties.\n",
    "\n",
    "Show the remaining values with missing data. These are largely from unconsistently labeled versions of Alaska's unorganized borough. The remaining minority of rows with missing data come randomly from different states. However, they represent less than 2.5% of the total number of counties, so it is not egregious to simply drop these rows. There are still 3073 of 3144 (from Wikipedia) county like entities that remain. The resultant dataframe has no missing data and is ready for modeling!"
   ]
  },
  {
   "cell_type": "code",
   "execution_count": 9,
   "metadata": {
    "collapsed": false
   },
   "outputs": [
    {
     "name": "stdout",
     "output_type": "stream",
     "text": [
      "(6291, 14)\n",
      "County                                                           10\n",
      "Estimated Age-adjusted Death Rate, 11 Categories (in ranges)     10\n",
      "FIPS                                                              0\n",
      "FIPS State                                                        0\n",
      "Population                                                       17\n",
      "ST                                                                0\n",
      "State                                                             0\n",
      "Year                                                              0\n",
      "Death Rate Category Median                                       10\n",
      "Opioid Claims                                                   144\n",
      "Opioid Prescribing Rate                                         144\n",
      "Overall Claims                                                  144\n",
      "Part D Prescribers                                              144\n",
      "n_facilities                                                      0\n",
      "dtype: int64\n",
      "74\n",
      "(6137, 14)\n",
      "3073\n"
     ]
    }
   ],
   "source": [
    "df = df[df['Year'] > 2012]\n",
    "df['n_facilities'].fillna(0, inplace=True)\n",
    "print df.shape\n",
    "nullmask = pd.isnull(df)\n",
    "print np.sum(nullmask)\n",
    "print len(df[pd.isnull(df['Overall Claims'])].groupby('County').groups.keys())\n",
    "df.dropna(inplace=True);\n",
    "print df.shape\n",
    "print len(df.groupby(['County','ST']).groups.keys())"
   ]
  },
  {
   "cell_type": "code",
   "execution_count": null,
   "metadata": {
    "collapsed": true
   },
   "outputs": [],
   "source": []
  }
 ],
 "metadata": {
  "kernelspec": {
   "display_name": "Python 2",
   "language": "python",
   "name": "python2"
  },
  "language_info": {
   "codemirror_mode": {
    "name": "ipython",
    "version": 2
   },
   "file_extension": ".py",
   "mimetype": "text/x-python",
   "name": "python",
   "nbconvert_exporter": "python",
   "pygments_lexer": "ipython2",
   "version": "2.7.13"
  }
 },
 "nbformat": 4,
 "nbformat_minor": 0
}
