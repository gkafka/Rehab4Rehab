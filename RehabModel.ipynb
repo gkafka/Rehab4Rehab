{
 "cells": [
  {
   "cell_type": "markdown",
   "metadata": {},
   "source": [
    "# RehabModel\n",
    "\n",
    "This notebook loads the combined data, and models the mortality rate."
   ]
  },
  {
   "cell_type": "code",
   "execution_count": 1,
   "metadata": {
    "collapsed": true
   },
   "outputs": [],
   "source": [
    "%matplotlib inline\n",
    "\n",
    "from bs4 import BeautifulSoup\n",
    "import json\n",
    "import matplotlib as mpl\n",
    "import matplotlib.pyplot as plt\n",
    "import numpy as np\n",
    "import pandas as pd\n",
    "from sklearn import ensemble\n",
    "from sklearn import linear_model\n",
    "from sklearn.externals import joblib\n",
    "from sklearn.preprocessing import StandardScaler\n",
    "import scipy as sp\n",
    "import seaborn as sns\n",
    "import requests\n",
    "import time"
   ]
  },
  {
   "cell_type": "code",
   "execution_count": 2,
   "metadata": {
    "collapsed": false
   },
   "outputs": [
    {
     "name": "stdout",
     "output_type": "stream",
     "text": [
      "County                                                           object\n",
      "Death Rate Category Median                                      float64\n",
      "Estimated Age-adjusted Death Rate, 11 Categories (in ranges)     object\n",
      "FIPS                                                            float64\n",
      "FIPS State                                                      float64\n",
      "Opioid Claims                                                   float64\n",
      "Opioid Prescribing Rate                                         float64\n",
      "Overall Claims                                                  float64\n",
      "Part D Prescribers                                              float64\n",
      "Population                                                      float64\n",
      "ST                                                               object\n",
      "State                                                            object\n",
      "Year                                                            float64\n",
      "n_facilities                                                    float64\n",
      "dtype: object\n"
     ]
    },
    {
     "data": {
      "text/html": [
       "<div>\n",
       "<table border=\"1\" class=\"dataframe\">\n",
       "  <thead>\n",
       "    <tr style=\"text-align: right;\">\n",
       "      <th></th>\n",
       "      <th>County</th>\n",
       "      <th>Death Rate Category Median</th>\n",
       "      <th>Estimated Age-adjusted Death Rate, 11 Categories (in ranges)</th>\n",
       "      <th>FIPS</th>\n",
       "      <th>FIPS State</th>\n",
       "      <th>Opioid Claims</th>\n",
       "      <th>Opioid Prescribing Rate</th>\n",
       "      <th>Overall Claims</th>\n",
       "      <th>Part D Prescribers</th>\n",
       "      <th>Population</th>\n",
       "      <th>ST</th>\n",
       "      <th>State</th>\n",
       "      <th>Year</th>\n",
       "      <th>n_facilities</th>\n",
       "    </tr>\n",
       "  </thead>\n",
       "  <tbody>\n",
       "    <tr>\n",
       "      <th>14</th>\n",
       "      <td>autauga county</td>\n",
       "      <td>11</td>\n",
       "      <td>10.1-12</td>\n",
       "      <td>1001</td>\n",
       "      <td>1</td>\n",
       "      <td>20482</td>\n",
       "      <td>9.803002</td>\n",
       "      <td>208936</td>\n",
       "      <td>67</td>\n",
       "      <td>55136</td>\n",
       "      <td>AL</td>\n",
       "      <td>Alabama</td>\n",
       "      <td>2013</td>\n",
       "      <td>0</td>\n",
       "    </tr>\n",
       "    <tr>\n",
       "      <th>15</th>\n",
       "      <td>autauga county</td>\n",
       "      <td>11</td>\n",
       "      <td>10.1-12</td>\n",
       "      <td>1001</td>\n",
       "      <td>1</td>\n",
       "      <td>20355</td>\n",
       "      <td>9.724810</td>\n",
       "      <td>209310</td>\n",
       "      <td>67</td>\n",
       "      <td>55395</td>\n",
       "      <td>AL</td>\n",
       "      <td>Alabama</td>\n",
       "      <td>2014</td>\n",
       "      <td>0</td>\n",
       "    </tr>\n",
       "    <tr>\n",
       "      <th>30</th>\n",
       "      <td>baldwin county</td>\n",
       "      <td>19</td>\n",
       "      <td>18.1-20</td>\n",
       "      <td>1003</td>\n",
       "      <td>1</td>\n",
       "      <td>82517</td>\n",
       "      <td>9.151229</td>\n",
       "      <td>901704</td>\n",
       "      <td>407</td>\n",
       "      <td>195443</td>\n",
       "      <td>AL</td>\n",
       "      <td>Alabama</td>\n",
       "      <td>2013</td>\n",
       "      <td>16</td>\n",
       "    </tr>\n",
       "    <tr>\n",
       "      <th>31</th>\n",
       "      <td>baldwin county</td>\n",
       "      <td>19</td>\n",
       "      <td>18.1-20</td>\n",
       "      <td>1003</td>\n",
       "      <td>1</td>\n",
       "      <td>81866</td>\n",
       "      <td>9.052919</td>\n",
       "      <td>904305</td>\n",
       "      <td>425</td>\n",
       "      <td>200111</td>\n",
       "      <td>AL</td>\n",
       "      <td>Alabama</td>\n",
       "      <td>2014</td>\n",
       "      <td>16</td>\n",
       "    </tr>\n",
       "    <tr>\n",
       "      <th>46</th>\n",
       "      <td>barbour county</td>\n",
       "      <td>7</td>\n",
       "      <td>6.1-8</td>\n",
       "      <td>1005</td>\n",
       "      <td>1</td>\n",
       "      <td>8935</td>\n",
       "      <td>6.278679</td>\n",
       "      <td>142307</td>\n",
       "      <td>33</td>\n",
       "      <td>26978</td>\n",
       "      <td>AL</td>\n",
       "      <td>Alabama</td>\n",
       "      <td>2013</td>\n",
       "      <td>0</td>\n",
       "    </tr>\n",
       "  </tbody>\n",
       "</table>\n",
       "</div>"
      ],
      "text/plain": [
       "            County  Death Rate Category Median  \\\n",
       "14  autauga county                          11   \n",
       "15  autauga county                          11   \n",
       "30  baldwin county                          19   \n",
       "31  baldwin county                          19   \n",
       "46  barbour county                           7   \n",
       "\n",
       "   Estimated Age-adjusted Death Rate, 11 Categories (in ranges)  FIPS  \\\n",
       "14                                            10.1-12            1001   \n",
       "15                                            10.1-12            1001   \n",
       "30                                            18.1-20            1003   \n",
       "31                                            18.1-20            1003   \n",
       "46                                              6.1-8            1005   \n",
       "\n",
       "    FIPS State  Opioid Claims  Opioid Prescribing Rate  Overall Claims  \\\n",
       "14           1          20482                 9.803002          208936   \n",
       "15           1          20355                 9.724810          209310   \n",
       "30           1          82517                 9.151229          901704   \n",
       "31           1          81866                 9.052919          904305   \n",
       "46           1           8935                 6.278679          142307   \n",
       "\n",
       "    Part D Prescribers  Population  ST    State  Year  n_facilities  \n",
       "14                  67       55136  AL  Alabama  2013             0  \n",
       "15                  67       55395  AL  Alabama  2014             0  \n",
       "30                 407      195443  AL  Alabama  2013            16  \n",
       "31                 425      200111  AL  Alabama  2014            16  \n",
       "46                  33       26978  AL  Alabama  2013             0  "
      ]
     },
     "execution_count": 2,
     "metadata": {},
     "output_type": "execute_result"
    }
   ],
   "source": [
    "with open('DataCombined.json', 'r') as f:\n",
    "    d = json.load(f);\n",
    "\n",
    "df = pd.DataFrame(d);\n",
    "df.index = df.index.astype(int);\n",
    "df.sort_index(inplace=True);\n",
    "print df.dtypes\n",
    "df.head()"
   ]
  },
  {
   "cell_type": "code",
   "execution_count": 3,
   "metadata": {
    "collapsed": false
   },
   "outputs": [
    {
     "name": "stdout",
     "output_type": "stream",
     "text": [
      "County                                                           object\n",
      "Death Rate Category Median                                        int64\n",
      "Estimated Age-adjusted Death Rate, 11 Categories (in ranges)     object\n",
      "FIPS                                                              int64\n",
      "FIPS State                                                        int64\n",
      "Opioid Claims                                                     int64\n",
      "Opioid Prescribing Rate                                         float64\n",
      "Overall Claims                                                    int64\n",
      "Part D Prescribers                                                int64\n",
      "Population                                                        int64\n",
      "ST                                                               object\n",
      "State                                                            object\n",
      "Year                                                              int64\n",
      "n_facilities                                                      int64\n",
      "dtype: object\n"
     ]
    }
   ],
   "source": [
    "df['Death Rate Category Median'] = df['Death Rate Category Median'].astype(int);\n",
    "df['FIPS'] = df['FIPS'].astype(int);\n",
    "df['FIPS State'] = df['FIPS State'].astype(int);\n",
    "df['Opioid Claims'] = df['Opioid Claims'].astype(int);\n",
    "df['Overall Claims'] = df['Overall Claims'].astype(int);\n",
    "df['Part D Prescribers'] = df['Part D Prescribers'].astype(int);\n",
    "df['Population'] = df['Population'].astype(int);\n",
    "df['Year'] = df['Year'].astype(int);\n",
    "df['n_facilities'] = df['n_facilities'].astype(int);\n",
    "print df.dtypes"
   ]
  },
  {
   "cell_type": "code",
   "execution_count": 4,
   "metadata": {
    "collapsed": false
   },
   "outputs": [
    {
     "data": {
      "text/html": [
       "<div>\n",
       "<table border=\"1\" class=\"dataframe\">\n",
       "  <thead>\n",
       "    <tr style=\"text-align: right;\">\n",
       "      <th></th>\n",
       "      <th>County</th>\n",
       "      <th>Death Rate Category Median</th>\n",
       "      <th>Estimated Age-adjusted Death Rate, 11 Categories (in ranges)</th>\n",
       "      <th>FIPS</th>\n",
       "      <th>FIPS State</th>\n",
       "      <th>Opioid Claims</th>\n",
       "      <th>Opioid Prescribing Rate</th>\n",
       "      <th>Overall Claims</th>\n",
       "      <th>Part D Prescribers</th>\n",
       "      <th>Population</th>\n",
       "      <th>ST</th>\n",
       "      <th>State</th>\n",
       "      <th>Year</th>\n",
       "      <th>n_facilities</th>\n",
       "    </tr>\n",
       "  </thead>\n",
       "  <tbody>\n",
       "    <tr>\n",
       "      <th>14</th>\n",
       "      <td>autauga county</td>\n",
       "      <td>11</td>\n",
       "      <td>10.1-12</td>\n",
       "      <td>1001</td>\n",
       "      <td>1</td>\n",
       "      <td>20482</td>\n",
       "      <td>9.803002</td>\n",
       "      <td>208936</td>\n",
       "      <td>67</td>\n",
       "      <td>55136</td>\n",
       "      <td>AL</td>\n",
       "      <td>Alabama</td>\n",
       "      <td>2013</td>\n",
       "      <td>0</td>\n",
       "    </tr>\n",
       "    <tr>\n",
       "      <th>15</th>\n",
       "      <td>autauga county</td>\n",
       "      <td>11</td>\n",
       "      <td>10.1-12</td>\n",
       "      <td>1001</td>\n",
       "      <td>1</td>\n",
       "      <td>20355</td>\n",
       "      <td>9.724810</td>\n",
       "      <td>209310</td>\n",
       "      <td>67</td>\n",
       "      <td>55395</td>\n",
       "      <td>AL</td>\n",
       "      <td>Alabama</td>\n",
       "      <td>2014</td>\n",
       "      <td>0</td>\n",
       "    </tr>\n",
       "    <tr>\n",
       "      <th>30</th>\n",
       "      <td>baldwin county</td>\n",
       "      <td>19</td>\n",
       "      <td>18.1-20</td>\n",
       "      <td>1003</td>\n",
       "      <td>1</td>\n",
       "      <td>82517</td>\n",
       "      <td>9.151229</td>\n",
       "      <td>901704</td>\n",
       "      <td>407</td>\n",
       "      <td>195443</td>\n",
       "      <td>AL</td>\n",
       "      <td>Alabama</td>\n",
       "      <td>2013</td>\n",
       "      <td>16</td>\n",
       "    </tr>\n",
       "    <tr>\n",
       "      <th>31</th>\n",
       "      <td>baldwin county</td>\n",
       "      <td>19</td>\n",
       "      <td>18.1-20</td>\n",
       "      <td>1003</td>\n",
       "      <td>1</td>\n",
       "      <td>81866</td>\n",
       "      <td>9.052919</td>\n",
       "      <td>904305</td>\n",
       "      <td>425</td>\n",
       "      <td>200111</td>\n",
       "      <td>AL</td>\n",
       "      <td>Alabama</td>\n",
       "      <td>2014</td>\n",
       "      <td>16</td>\n",
       "    </tr>\n",
       "    <tr>\n",
       "      <th>46</th>\n",
       "      <td>barbour county</td>\n",
       "      <td>7</td>\n",
       "      <td>6.1-8</td>\n",
       "      <td>1005</td>\n",
       "      <td>1</td>\n",
       "      <td>8935</td>\n",
       "      <td>6.278679</td>\n",
       "      <td>142307</td>\n",
       "      <td>33</td>\n",
       "      <td>26978</td>\n",
       "      <td>AL</td>\n",
       "      <td>Alabama</td>\n",
       "      <td>2013</td>\n",
       "      <td>0</td>\n",
       "    </tr>\n",
       "  </tbody>\n",
       "</table>\n",
       "</div>"
      ],
      "text/plain": [
       "            County  Death Rate Category Median  \\\n",
       "14  autauga county                          11   \n",
       "15  autauga county                          11   \n",
       "30  baldwin county                          19   \n",
       "31  baldwin county                          19   \n",
       "46  barbour county                           7   \n",
       "\n",
       "   Estimated Age-adjusted Death Rate, 11 Categories (in ranges)  FIPS  \\\n",
       "14                                            10.1-12            1001   \n",
       "15                                            10.1-12            1001   \n",
       "30                                            18.1-20            1003   \n",
       "31                                            18.1-20            1003   \n",
       "46                                              6.1-8            1005   \n",
       "\n",
       "    FIPS State  Opioid Claims  Opioid Prescribing Rate  Overall Claims  \\\n",
       "14           1          20482                 9.803002          208936   \n",
       "15           1          20355                 9.724810          209310   \n",
       "30           1          82517                 9.151229          901704   \n",
       "31           1          81866                 9.052919          904305   \n",
       "46           1           8935                 6.278679          142307   \n",
       "\n",
       "    Part D Prescribers  Population  ST    State  Year  n_facilities  \n",
       "14                  67       55136  AL  Alabama  2013             0  \n",
       "15                  67       55395  AL  Alabama  2014             0  \n",
       "30                 407      195443  AL  Alabama  2013            16  \n",
       "31                 425      200111  AL  Alabama  2014            16  \n",
       "46                  33       26978  AL  Alabama  2013             0  "
      ]
     },
     "execution_count": 4,
     "metadata": {},
     "output_type": "execute_result"
    }
   ],
   "source": [
    "df_trim = df.copy();\n",
    "\n",
    "cols_to_use = ['Opioid Claims', 'Opioid Prescribing Rate', 'Overall Claims',\n",
    "               'Part D Prescribers', 'Population', 'n_facilities'];\n",
    "\n",
    "df_trim.head()"
   ]
  },
  {
   "cell_type": "code",
   "execution_count": 5,
   "metadata": {
    "collapsed": false
   },
   "outputs": [],
   "source": [
    "x_train = df_trim[df_trim['Year'] == 2013];\n",
    "y_train = x_train['Death Rate Category Median'];\n",
    "x_train = x_train[cols_to_use];\n",
    "#ss = StandardScaler().fit(x_train);\n",
    "#ss.transform(x_train);\n",
    "\n",
    "x_test  = df_trim[df_trim['Year'] == 2014];\n",
    "y_test  = x_test['Death Rate Category Median'];\n",
    "x_test  = x_test[cols_to_use];\n",
    "#ss.transform(x_test);"
   ]
  },
  {
   "cell_type": "code",
   "execution_count": 6,
   "metadata": {
    "collapsed": false
   },
   "outputs": [
    {
     "name": "stdout",
     "output_type": "stream",
     "text": [
      "[  2.57259352e-05   6.26685937e-01   3.67899639e-07   3.75132702e-05\n",
      "  -5.65737634e-06   1.60651180e-02]\n",
      "0.112600298729\n"
     ]
    }
   ],
   "source": [
    "lr = linear_model.LinearRegression();\n",
    "lr.fit(x_train[cols_to_use], y_train);\n",
    "print lr.coef_;\n",
    "print lr.score(x_train[cols_to_use], y_train);\n",
    "\n",
    "pred_train = lr.predict(x_train[cols_to_use]);\n",
    "pred_test = lr.predict(x_test[cols_to_use]);"
   ]
  },
  {
   "cell_type": "code",
   "execution_count": 7,
   "metadata": {
    "collapsed": false
   },
   "outputs": [
    {
     "data": {
      "image/png": "[encoded data removed]",
      "text/plain": [
       "<matplotlib.figure.Figure at 0x111bb8390>"
      ]
     },
     "metadata": {},
     "output_type": "display_data"
    }
   ],
   "source": [
    "fig, [axL, axR] = plt.subplots(nrows=1, ncols=2, figsize=(12,5), sharey=True);\n",
    "axL.scatter(pred_train, y_train);\n",
    "axL.set_xlabel('Predicted Rate (Training)');\n",
    "axL.xaxis.label.set_fontsize(16);\n",
    "axL.set_xlim(0,22);\n",
    "axL.set_ylabel('Actual Rate');\n",
    "axL.yaxis.label.set_fontsize(16);\n",
    "axL.set_ylim(0,22);\n",
    "\n",
    "axR.scatter(pred_test, y_test);\n",
    "axR.set_xlabel('Predicted Rate (Testing)');\n",
    "axR.xaxis.label.set_fontsize(16);\n",
    "axR.set_xlim(0,22);"
   ]
  },
  {
   "cell_type": "code",
   "execution_count": 8,
   "metadata": {
    "collapsed": false
   },
   "outputs": [
    {
     "name": "stdout",
     "output_type": "stream",
     "text": [
      "[ 0.13133098  0.32930437  0.1286543   0.13985794  0.22845066  0.04240174]\n"
     ]
    }
   ],
   "source": [
    "rf = ensemble.RandomForestRegressor();\n",
    "rf.fit(x_train[cols_to_use], y_train);\n",
    "print rf.feature_importances_;\n",
    "\n",
    "pred_train = rf.predict(x_train[cols_to_use]);\n",
    "pred_test = rf.predict(x_test[cols_to_use]);"
   ]
  },
  {
   "cell_type": "code",
   "execution_count": 9,
   "metadata": {
    "collapsed": false
   },
   "outputs": [
    {
     "data": {
      "image/png": "[encoded data removed]",
      "text/plain": [
       "<matplotlib.figure.Figure at 0x111d0b5d0>"
      ]
     },
     "metadata": {},
     "output_type": "display_data"
    }
   ],
   "source": [
    "fig, [axL, axR] = plt.subplots(nrows=1, ncols=2, figsize=(12,5), sharey=True);\n",
    "axL.scatter(pred_train, y_train);\n",
    "axL.set_xlabel('Predicted Rate (Training)');\n",
    "axL.xaxis.label.set_fontsize(16);\n",
    "axL.set_xlim(0,22);\n",
    "axL.set_ylabel('Actual Rate');\n",
    "axL.yaxis.label.set_fontsize(16);\n",
    "axL.set_ylim(0,22);\n",
    "\n",
    "axR.scatter(pred_test, y_test);\n",
    "axR.set_xlabel('Predicted Rate (Testing)');\n",
    "axR.xaxis.label.set_fontsize(16);\n",
    "axR.set_xlim(0,22);"
   ]
  },
  {
   "cell_type": "code",
   "execution_count": 10,
   "metadata": {
    "collapsed": false
   },
   "outputs": [
    {
     "data": {
      "text/plain": [
       "['RehabApp/static/model_rf.pkl',\n",
       " 'RehabApp/static/model_rf.pkl_01.npy',\n",
       " 'RehabApp/static/model_rf.pkl_02.npy',\n",
       " 'RehabApp/static/model_rf.pkl_03.npy',\n",
       " 'RehabApp/static/model_rf.pkl_04.npy',\n",
       " 'RehabApp/static/model_rf.pkl_05.npy',\n",
       " 'RehabApp/static/model_rf.pkl_06.npy',\n",
       " 'RehabApp/static/model_rf.pkl_07.npy',\n",
       " 'RehabApp/static/model_rf.pkl_08.npy',\n",
       " 'RehabApp/static/model_rf.pkl_09.npy',\n",
       " 'RehabApp/static/model_rf.pkl_10.npy',\n",
       " 'RehabApp/static/model_rf.pkl_11.npy',\n",
       " 'RehabApp/static/model_rf.pkl_12.npy',\n",
       " 'RehabApp/static/model_rf.pkl_13.npy',\n",
       " 'RehabApp/static/model_rf.pkl_14.npy',\n",
       " 'RehabApp/static/model_rf.pkl_15.npy',\n",
       " 'RehabApp/static/model_rf.pkl_16.npy',\n",
       " 'RehabApp/static/model_rf.pkl_17.npy',\n",
       " 'RehabApp/static/model_rf.pkl_18.npy',\n",
       " 'RehabApp/static/model_rf.pkl_19.npy',\n",
       " 'RehabApp/static/model_rf.pkl_20.npy',\n",
       " 'RehabApp/static/model_rf.pkl_21.npy',\n",
       " 'RehabApp/static/model_rf.pkl_22.npy',\n",
       " 'RehabApp/static/model_rf.pkl_23.npy',\n",
       " 'RehabApp/static/model_rf.pkl_24.npy',\n",
       " 'RehabApp/static/model_rf.pkl_25.npy',\n",
       " 'RehabApp/static/model_rf.pkl_26.npy',\n",
       " 'RehabApp/static/model_rf.pkl_27.npy',\n",
       " 'RehabApp/static/model_rf.pkl_28.npy',\n",
       " 'RehabApp/static/model_rf.pkl_29.npy',\n",
       " 'RehabApp/static/model_rf.pkl_30.npy',\n",
       " 'RehabApp/static/model_rf.pkl_31.npy',\n",
       " 'RehabApp/static/model_rf.pkl_32.npy',\n",
       " 'RehabApp/static/model_rf.pkl_33.npy',\n",
       " 'RehabApp/static/model_rf.pkl_34.npy',\n",
       " 'RehabApp/static/model_rf.pkl_35.npy',\n",
       " 'RehabApp/static/model_rf.pkl_36.npy',\n",
       " 'RehabApp/static/model_rf.pkl_37.npy',\n",
       " 'RehabApp/static/model_rf.pkl_38.npy',\n",
       " 'RehabApp/static/model_rf.pkl_39.npy',\n",
       " 'RehabApp/static/model_rf.pkl_40.npy']"
      ]
     },
     "execution_count": 10,
     "metadata": {},
     "output_type": "execute_result"
    }
   ],
   "source": [
    "joblib.dump(rf, 'RehabApp/static/model_rf.pkl')\n",
    "#joblib.dump(ss, 'RehabApp/static/scale.pkl')"
   ]
  },
  {
   "cell_type": "code",
   "execution_count": 11,
   "metadata": {
    "collapsed": false
   },
   "outputs": [
    {
     "data": {
      "text/plain": [
       "(array([  5.49700000e+03,   2.60000000e+02,   1.20000000e+02,\n",
       "          6.90000000e+01,   4.70000000e+01,   2.70000000e+01,\n",
       "          3.00000000e+01,   2.50000000e+01,   1.20000000e+01,\n",
       "          7.00000000e+00,   8.00000000e+00,   5.00000000e+00,\n",
       "          4.00000000e+00,   2.00000000e+00,   5.00000000e+00,\n",
       "          3.00000000e+00,   3.00000000e+00,   3.00000000e+00,\n",
       "          0.00000000e+00,   0.00000000e+00,   0.00000000e+00,\n",
       "          2.00000000e+00,   2.00000000e+00,   0.00000000e+00,\n",
       "          0.00000000e+00,   0.00000000e+00,   0.00000000e+00,\n",
       "          0.00000000e+00,   0.00000000e+00,   1.00000000e+00,\n",
       "          1.00000000e+00,   0.00000000e+00,   0.00000000e+00,\n",
       "          0.00000000e+00,   0.00000000e+00,   1.00000000e+00,\n",
       "          1.00000000e+00,   0.00000000e+00,   0.00000000e+00,\n",
       "          0.00000000e+00,   0.00000000e+00,   0.00000000e+00,\n",
       "          0.00000000e+00,   0.00000000e+00,   0.00000000e+00,\n",
       "          0.00000000e+00,   0.00000000e+00,   0.00000000e+00,\n",
       "          0.00000000e+00,   2.00000000e+00]),\n",
       " array([  1.00000000e+00,   6.05560000e+02,   1.21012000e+03,\n",
       "          1.81468000e+03,   2.41924000e+03,   3.02380000e+03,\n",
       "          3.62836000e+03,   4.23292000e+03,   4.83748000e+03,\n",
       "          5.44204000e+03,   6.04660000e+03,   6.65116000e+03,\n",
       "          7.25572000e+03,   7.86028000e+03,   8.46484000e+03,\n",
       "          9.06940000e+03,   9.67396000e+03,   1.02785200e+04,\n",
       "          1.08830800e+04,   1.14876400e+04,   1.20922000e+04,\n",
       "          1.26967600e+04,   1.33013200e+04,   1.39058800e+04,\n",
       "          1.45104400e+04,   1.51150000e+04,   1.57195600e+04,\n",
       "          1.63241200e+04,   1.69286800e+04,   1.75332400e+04,\n",
       "          1.81378000e+04,   1.87423600e+04,   1.93469200e+04,\n",
       "          1.99514800e+04,   2.05560400e+04,   2.11606000e+04,\n",
       "          2.17651600e+04,   2.23697200e+04,   2.29742800e+04,\n",
       "          2.35788400e+04,   2.41834000e+04,   2.47879600e+04,\n",
       "          2.53925200e+04,   2.59970800e+04,   2.66016400e+04,\n",
       "          2.72062000e+04,   2.78107600e+04,   2.84153200e+04,\n",
       "          2.90198800e+04,   2.96244400e+04,   3.02290000e+04]),\n",
       " <a list of 50 Patch objects>)"
      ]
     },
     "execution_count": 11,
     "metadata": {},
     "output_type": "execute_result"
    },
    {
     "data": {
      "image/png": "[encoded data removed]",
      "text/plain": [
       "<matplotlib.figure.Figure at 0x111a9de90>"
      ]
     },
     "metadata": {},
     "output_type": "display_data"
    }
   ],
   "source": [
    "plt.hist(df['Part D Prescribers'].values, bins=50)"
   ]
  },
  {
   "cell_type": "code",
   "execution_count": null,
   "metadata": {
    "collapsed": true
   },
   "outputs": [],
   "source": []
  }
 ],
 "metadata": {
  "kernelspec": {
   "display_name": "Python 2",
   "language": "python",
   "name": "python2"
  },
  "language_info": {
   "codemirror_mode": {
    "name": "ipython",
    "version": 2
   },
   "file_extension": ".py",
   "mimetype": "text/x-python",
   "name": "python",
   "nbconvert_exporter": "python",
   "pygments_lexer": "ipython2",
   "version": "2.7.13"
  }
 },
 "nbformat": 4,
 "nbformat_minor": 0
}
