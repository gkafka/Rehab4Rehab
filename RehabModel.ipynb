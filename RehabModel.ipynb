{
 "cells": [
  {
   "cell_type": "markdown",
   "metadata": {},
   "source": [
    "# RehabModel\n",
    "\n",
    "This notebook loads the combined data, and models the mortality rate."
   ]
  },
  {
   "cell_type": "code",
   "execution_count": 1,
   "metadata": {
    "collapsed": false
   },
   "outputs": [
    {
     "name": "stderr",
     "output_type": "stream",
     "text": [
      "/Users/gkafka/anaconda/envs/insight/lib/python2.7/site-packages/matplotlib/font_manager.py:273: UserWarning: Matplotlib is building the font cache using fc-list. This may take a moment.\n",
      "  warnings.warn('Matplotlib is building the font cache using fc-list. This may take a moment.')\n",
      "/Users/gkafka/anaconda/envs/insight/lib/python2.7/site-packages/sklearn/cross_validation.py:44: DeprecationWarning: This module was deprecated in version 0.18 in favor of the model_selection module into which all the refactored classes and functions are moved. Also note that the interface of the new CV iterators are different from that of this module. This module will be removed in 0.20.\n",
      "  \"This module will be removed in 0.20.\", DeprecationWarning)\n",
      "/Users/gkafka/anaconda/envs/insight/lib/python2.7/site-packages/sklearn/grid_search.py:43: DeprecationWarning: This module was deprecated in version 0.18 in favor of the model_selection module into which all the refactored classes and functions are moved. This module will be removed in 0.20.\n",
      "  DeprecationWarning)\n"
     ]
    }
   ],
   "source": [
    "%matplotlib inline\n",
    "\n",
    "import collections\n",
    "import json\n",
    "import matplotlib as mpl\n",
    "import matplotlib.pyplot as plt\n",
    "import numpy as np\n",
    "import pandas as pd\n",
    "import psycopg2\n",
    "from sklearn import ensemble\n",
    "from sklearn import linear_model\n",
    "from sklearn import metrics\n",
    "from sklearn.externals import joblib\n",
    "from sklearn.grid_search import GridSearchCV\n",
    "from sklearn.neural_network import MLPRegressor\n",
    "from sklearn.preprocessing import StandardScaler\n",
    "from sklearn.svm import SVR\n",
    "import scipy as sp\n",
    "import seaborn as sns\n",
    "from sqlalchemy import create_engine\n",
    "from sqlalchemy_utils import database_exists, create_database\n",
    "import time"
   ]
  },
  {
   "cell_type": "code",
   "execution_count": 2,
   "metadata": {
    "collapsed": false
   },
   "outputs": [
    {
     "name": "stdout",
     "output_type": "stream",
     "text": [
      "County                                                           object\n",
      "Death Rate Category Median                                      float64\n",
      "Estimated Age-adjusted Death Rate, 11 Categories (in ranges)     object\n",
      "FIPS                                                            float64\n",
      "FIPS State                                                      float64\n",
      "Opioid Claims                                                   float64\n",
      "Opioid Prescribing Rate                                         float64\n",
      "Overall Claims                                                  float64\n",
      "Part D Prescribers                                              float64\n",
      "Population                                                      float64\n",
      "ST                                                               object\n",
      "State                                                            object\n",
      "Year                                                            float64\n",
      "n_facilities                                                    float64\n",
      "dtype: object\n"
     ]
    },
    {
     "data": {
      "text/html": [
       "<div>\n",
       "<table border=\"1\" class=\"dataframe\">\n",
       "  <thead>\n",
       "    <tr style=\"text-align: right;\">\n",
       "      <th></th>\n",
       "      <th>County</th>\n",
       "      <th>Death Rate Category Median</th>\n",
       "      <th>Estimated Age-adjusted Death Rate, 11 Categories (in ranges)</th>\n",
       "      <th>FIPS</th>\n",
       "      <th>FIPS State</th>\n",
       "      <th>Opioid Claims</th>\n",
       "      <th>Opioid Prescribing Rate</th>\n",
       "      <th>Overall Claims</th>\n",
       "      <th>Part D Prescribers</th>\n",
       "      <th>Population</th>\n",
       "      <th>ST</th>\n",
       "      <th>State</th>\n",
       "      <th>Year</th>\n",
       "      <th>n_facilities</th>\n",
       "    </tr>\n",
       "  </thead>\n",
       "  <tbody>\n",
       "    <tr>\n",
       "      <th>14</th>\n",
       "      <td>autauga county</td>\n",
       "      <td>11.0</td>\n",
       "      <td>10.1-12</td>\n",
       "      <td>1001.0</td>\n",
       "      <td>1.0</td>\n",
       "      <td>20482.0</td>\n",
       "      <td>9.803002</td>\n",
       "      <td>208936.0</td>\n",
       "      <td>67.0</td>\n",
       "      <td>55136.0</td>\n",
       "      <td>AL</td>\n",
       "      <td>Alabama</td>\n",
       "      <td>2013.0</td>\n",
       "      <td>0.0</td>\n",
       "    </tr>\n",
       "    <tr>\n",
       "      <th>15</th>\n",
       "      <td>autauga county</td>\n",
       "      <td>11.0</td>\n",
       "      <td>10.1-12</td>\n",
       "      <td>1001.0</td>\n",
       "      <td>1.0</td>\n",
       "      <td>20355.0</td>\n",
       "      <td>9.724810</td>\n",
       "      <td>209310.0</td>\n",
       "      <td>67.0</td>\n",
       "      <td>55395.0</td>\n",
       "      <td>AL</td>\n",
       "      <td>Alabama</td>\n",
       "      <td>2014.0</td>\n",
       "      <td>0.0</td>\n",
       "    </tr>\n",
       "    <tr>\n",
       "      <th>30</th>\n",
       "      <td>baldwin county</td>\n",
       "      <td>19.0</td>\n",
       "      <td>18.1-20</td>\n",
       "      <td>1003.0</td>\n",
       "      <td>1.0</td>\n",
       "      <td>82517.0</td>\n",
       "      <td>9.151229</td>\n",
       "      <td>901704.0</td>\n",
       "      <td>407.0</td>\n",
       "      <td>195443.0</td>\n",
       "      <td>AL</td>\n",
       "      <td>Alabama</td>\n",
       "      <td>2013.0</td>\n",
       "      <td>16.0</td>\n",
       "    </tr>\n",
       "    <tr>\n",
       "      <th>31</th>\n",
       "      <td>baldwin county</td>\n",
       "      <td>19.0</td>\n",
       "      <td>18.1-20</td>\n",
       "      <td>1003.0</td>\n",
       "      <td>1.0</td>\n",
       "      <td>81866.0</td>\n",
       "      <td>9.052919</td>\n",
       "      <td>904305.0</td>\n",
       "      <td>425.0</td>\n",
       "      <td>200111.0</td>\n",
       "      <td>AL</td>\n",
       "      <td>Alabama</td>\n",
       "      <td>2014.0</td>\n",
       "      <td>16.0</td>\n",
       "    </tr>\n",
       "    <tr>\n",
       "      <th>46</th>\n",
       "      <td>barbour county</td>\n",
       "      <td>7.0</td>\n",
       "      <td>6.1-8</td>\n",
       "      <td>1005.0</td>\n",
       "      <td>1.0</td>\n",
       "      <td>8935.0</td>\n",
       "      <td>6.278679</td>\n",
       "      <td>142307.0</td>\n",
       "      <td>33.0</td>\n",
       "      <td>26978.0</td>\n",
       "      <td>AL</td>\n",
       "      <td>Alabama</td>\n",
       "      <td>2013.0</td>\n",
       "      <td>0.0</td>\n",
       "    </tr>\n",
       "  </tbody>\n",
       "</table>\n",
       "</div>"
      ],
      "text/plain": [
       "            County  Death Rate Category Median  \\\n",
       "14  autauga county                        11.0   \n",
       "15  autauga county                        11.0   \n",
       "30  baldwin county                        19.0   \n",
       "31  baldwin county                        19.0   \n",
       "46  barbour county                         7.0   \n",
       "\n",
       "   Estimated Age-adjusted Death Rate, 11 Categories (in ranges)    FIPS  \\\n",
       "14                                            10.1-12            1001.0   \n",
       "15                                            10.1-12            1001.0   \n",
       "30                                            18.1-20            1003.0   \n",
       "31                                            18.1-20            1003.0   \n",
       "46                                              6.1-8            1005.0   \n",
       "\n",
       "    FIPS State  Opioid Claims  Opioid Prescribing Rate  Overall Claims  \\\n",
       "14         1.0        20482.0                 9.803002        208936.0   \n",
       "15         1.0        20355.0                 9.724810        209310.0   \n",
       "30         1.0        82517.0                 9.151229        901704.0   \n",
       "31         1.0        81866.0                 9.052919        904305.0   \n",
       "46         1.0         8935.0                 6.278679        142307.0   \n",
       "\n",
       "    Part D Prescribers  Population  ST    State    Year  n_facilities  \n",
       "14                67.0     55136.0  AL  Alabama  2013.0           0.0  \n",
       "15                67.0     55395.0  AL  Alabama  2014.0           0.0  \n",
       "30               407.0    195443.0  AL  Alabama  2013.0          16.0  \n",
       "31               425.0    200111.0  AL  Alabama  2014.0          16.0  \n",
       "46                33.0     26978.0  AL  Alabama  2013.0           0.0  "
      ]
     },
     "execution_count": 2,
     "metadata": {},
     "output_type": "execute_result"
    }
   ],
   "source": [
    "with open('DataCombined.json', 'r') as f:\n",
    "    d = json.load(f);\n",
    "\n",
    "df = pd.DataFrame(d);\n",
    "df.index = df.index.astype(int);\n",
    "df.sort_index(inplace=True);\n",
    "print df.dtypes\n",
    "df.head()"
   ]
  },
  {
   "cell_type": "code",
   "execution_count": 3,
   "metadata": {
    "collapsed": false
   },
   "outputs": [
    {
     "name": "stdout",
     "output_type": "stream",
     "text": [
      "county                                object\n",
      "death_rate_category_median             int64\n",
      "estimated_age_adjusted_death_rate     object\n",
      "fips                                  object\n",
      "fips_state                             int64\n",
      "opioid_claims                          int64\n",
      "opioid_prescribing_rate              float64\n",
      "overall_claims                         int64\n",
      "part_d_prescribers                     int64\n",
      "population                             int64\n",
      "st                                    object\n",
      "state                                 object\n",
      "year                                   int64\n",
      "n_facilities                           int64\n",
      "dtype: object\n"
     ]
    }
   ],
   "source": [
    "df['Death Rate Category Median'] = df['Death Rate Category Median'].astype(int);\n",
    "df['FIPS'] = df['FIPS'].astype(int);\n",
    "df['FIPS'] = df['FIPS'].astype(str);\n",
    "df['FIPS State'] = df['FIPS State'].astype(int);\n",
    "df['Opioid Claims'] = df['Opioid Claims'].astype(int);\n",
    "df['Overall Claims'] = df['Overall Claims'].astype(int);\n",
    "df['Part D Prescribers'] = df['Part D Prescribers'].astype(int);\n",
    "df['Population'] = df['Population'].astype(int);\n",
    "df['Year'] = df['Year'].astype(int);\n",
    "df['n_facilities'] = df['n_facilities'].astype(int);\n",
    "df.rename(columns={'Estimated Age-adjusted Death Rate, 11 Categories (in ranges)':\n",
    "                   'Estimated Age Adjusted Death Rate'}, inplace=True)\n",
    "columns = [column.replace(' ','_').lower() for column in df.columns];\n",
    "df.columns = columns;\n",
    "print df.dtypes"
   ]
  },
  {
   "cell_type": "code",
   "execution_count": 4,
   "metadata": {
    "collapsed": false,
    "scrolled": true
   },
   "outputs": [
    {
     "data": {
      "text/html": [
       "<div>\n",
       "<table border=\"1\" class=\"dataframe\">\n",
       "  <thead>\n",
       "    <tr style=\"text-align: right;\">\n",
       "      <th></th>\n",
       "      <th>county</th>\n",
       "      <th>death_rate_category_median</th>\n",
       "      <th>estimated_age_adjusted_death_rate</th>\n",
       "      <th>fips</th>\n",
       "      <th>fips_state</th>\n",
       "      <th>opioid_claims</th>\n",
       "      <th>opioid_prescribing_rate</th>\n",
       "      <th>overall_claims</th>\n",
       "      <th>part_d_prescribers</th>\n",
       "      <th>population</th>\n",
       "      <th>st</th>\n",
       "      <th>state</th>\n",
       "      <th>year</th>\n",
       "      <th>n_facilities</th>\n",
       "      <th>facility_density</th>\n",
       "    </tr>\n",
       "  </thead>\n",
       "  <tbody>\n",
       "    <tr>\n",
       "      <th>14</th>\n",
       "      <td>autauga</td>\n",
       "      <td>11</td>\n",
       "      <td>10.1-12</td>\n",
       "      <td>01001</td>\n",
       "      <td>1</td>\n",
       "      <td>20482</td>\n",
       "      <td>9.803002</td>\n",
       "      <td>208936</td>\n",
       "      <td>67</td>\n",
       "      <td>55136</td>\n",
       "      <td>AL</td>\n",
       "      <td>Alabama</td>\n",
       "      <td>2013</td>\n",
       "      <td>0</td>\n",
       "      <td>0.000000</td>\n",
       "    </tr>\n",
       "    <tr>\n",
       "      <th>15</th>\n",
       "      <td>autauga</td>\n",
       "      <td>11</td>\n",
       "      <td>10.1-12</td>\n",
       "      <td>01001</td>\n",
       "      <td>1</td>\n",
       "      <td>20355</td>\n",
       "      <td>9.724810</td>\n",
       "      <td>209310</td>\n",
       "      <td>67</td>\n",
       "      <td>55395</td>\n",
       "      <td>AL</td>\n",
       "      <td>Alabama</td>\n",
       "      <td>2014</td>\n",
       "      <td>0</td>\n",
       "      <td>0.000000</td>\n",
       "    </tr>\n",
       "    <tr>\n",
       "      <th>30</th>\n",
       "      <td>baldwin</td>\n",
       "      <td>19</td>\n",
       "      <td>18.1-20</td>\n",
       "      <td>01003</td>\n",
       "      <td>1</td>\n",
       "      <td>82517</td>\n",
       "      <td>9.151229</td>\n",
       "      <td>901704</td>\n",
       "      <td>407</td>\n",
       "      <td>195443</td>\n",
       "      <td>AL</td>\n",
       "      <td>Alabama</td>\n",
       "      <td>2013</td>\n",
       "      <td>16</td>\n",
       "      <td>0.000082</td>\n",
       "    </tr>\n",
       "    <tr>\n",
       "      <th>31</th>\n",
       "      <td>baldwin</td>\n",
       "      <td>19</td>\n",
       "      <td>18.1-20</td>\n",
       "      <td>01003</td>\n",
       "      <td>1</td>\n",
       "      <td>81866</td>\n",
       "      <td>9.052919</td>\n",
       "      <td>904305</td>\n",
       "      <td>425</td>\n",
       "      <td>200111</td>\n",
       "      <td>AL</td>\n",
       "      <td>Alabama</td>\n",
       "      <td>2014</td>\n",
       "      <td>16</td>\n",
       "      <td>0.000080</td>\n",
       "    </tr>\n",
       "    <tr>\n",
       "      <th>46</th>\n",
       "      <td>barbour</td>\n",
       "      <td>7</td>\n",
       "      <td>6.1-8</td>\n",
       "      <td>01005</td>\n",
       "      <td>1</td>\n",
       "      <td>8935</td>\n",
       "      <td>6.278679</td>\n",
       "      <td>142307</td>\n",
       "      <td>33</td>\n",
       "      <td>26978</td>\n",
       "      <td>AL</td>\n",
       "      <td>Alabama</td>\n",
       "      <td>2013</td>\n",
       "      <td>0</td>\n",
       "      <td>0.000000</td>\n",
       "    </tr>\n",
       "  </tbody>\n",
       "</table>\n",
       "</div>"
      ],
      "text/plain": [
       "     county  death_rate_category_median estimated_age_adjusted_death_rate  \\\n",
       "14  autauga                          11                           10.1-12   \n",
       "15  autauga                          11                           10.1-12   \n",
       "30  baldwin                          19                           18.1-20   \n",
       "31  baldwin                          19                           18.1-20   \n",
       "46  barbour                           7                             6.1-8   \n",
       "\n",
       "     fips  fips_state  opioid_claims  opioid_prescribing_rate  overall_claims  \\\n",
       "14  01001           1          20482                 9.803002          208936   \n",
       "15  01001           1          20355                 9.724810          209310   \n",
       "30  01003           1          82517                 9.151229          901704   \n",
       "31  01003           1          81866                 9.052919          904305   \n",
       "46  01005           1           8935                 6.278679          142307   \n",
       "\n",
       "    part_d_prescribers  population  st    state  year  n_facilities  \\\n",
       "14                  67       55136  AL  Alabama  2013             0   \n",
       "15                  67       55395  AL  Alabama  2014             0   \n",
       "30                 407      195443  AL  Alabama  2013            16   \n",
       "31                 425      200111  AL  Alabama  2014            16   \n",
       "46                  33       26978  AL  Alabama  2013             0   \n",
       "\n",
       "    facility_density  \n",
       "14          0.000000  \n",
       "15          0.000000  \n",
       "30          0.000082  \n",
       "31          0.000080  \n",
       "46          0.000000  "
      ]
     },
     "execution_count": 4,
     "metadata": {},
     "output_type": "execute_result"
    }
   ],
   "source": [
    "fixcounty = lambda w: w.rsplit(' ', 1)[0];\n",
    "df['county'] = df['county'].apply(fixcounty);\n",
    "\n",
    "def fixfips(f):\n",
    "    if len(f) == 4:\n",
    "        return \"0\"+f;\n",
    "    return f;\n",
    "df['fips'] = df['fips'].apply(fixfips)\n",
    "\n",
    "df['facility_density'] = df['n_facilities'].values/df['population'];\n",
    "df.head()"
   ]
  },
  {
   "cell_type": "code",
   "execution_count": 5,
   "metadata": {
    "collapsed": false
   },
   "outputs": [
    {
     "data": {
      "text/html": [
       "<div>\n",
       "<table border=\"1\" class=\"dataframe\">\n",
       "  <thead>\n",
       "    <tr style=\"text-align: right;\">\n",
       "      <th></th>\n",
       "      <th>county</th>\n",
       "      <th>death_rate_category_median</th>\n",
       "      <th>estimated_age_adjusted_death_rate</th>\n",
       "      <th>fips</th>\n",
       "      <th>fips_state</th>\n",
       "      <th>opioid_claims</th>\n",
       "      <th>opioid_prescribing_rate</th>\n",
       "      <th>overall_claims</th>\n",
       "      <th>part_d_prescribers</th>\n",
       "      <th>population</th>\n",
       "      <th>st</th>\n",
       "      <th>state</th>\n",
       "      <th>year</th>\n",
       "      <th>n_facilities</th>\n",
       "      <th>facility_density</th>\n",
       "    </tr>\n",
       "  </thead>\n",
       "  <tbody>\n",
       "    <tr>\n",
       "      <th>14</th>\n",
       "      <td>autauga</td>\n",
       "      <td>11</td>\n",
       "      <td>10.1-12</td>\n",
       "      <td>01001</td>\n",
       "      <td>1</td>\n",
       "      <td>20482</td>\n",
       "      <td>9.803002</td>\n",
       "      <td>208936</td>\n",
       "      <td>67</td>\n",
       "      <td>55136</td>\n",
       "      <td>AL</td>\n",
       "      <td>Alabama</td>\n",
       "      <td>2013</td>\n",
       "      <td>0</td>\n",
       "      <td>0.000000</td>\n",
       "    </tr>\n",
       "    <tr>\n",
       "      <th>15</th>\n",
       "      <td>autauga</td>\n",
       "      <td>11</td>\n",
       "      <td>10.1-12</td>\n",
       "      <td>01001</td>\n",
       "      <td>1</td>\n",
       "      <td>20355</td>\n",
       "      <td>9.724810</td>\n",
       "      <td>209310</td>\n",
       "      <td>67</td>\n",
       "      <td>55395</td>\n",
       "      <td>AL</td>\n",
       "      <td>Alabama</td>\n",
       "      <td>2014</td>\n",
       "      <td>0</td>\n",
       "      <td>0.000000</td>\n",
       "    </tr>\n",
       "    <tr>\n",
       "      <th>30</th>\n",
       "      <td>baldwin</td>\n",
       "      <td>19</td>\n",
       "      <td>18.1-20</td>\n",
       "      <td>01003</td>\n",
       "      <td>1</td>\n",
       "      <td>82517</td>\n",
       "      <td>9.151229</td>\n",
       "      <td>901704</td>\n",
       "      <td>407</td>\n",
       "      <td>195443</td>\n",
       "      <td>AL</td>\n",
       "      <td>Alabama</td>\n",
       "      <td>2013</td>\n",
       "      <td>16</td>\n",
       "      <td>0.000082</td>\n",
       "    </tr>\n",
       "    <tr>\n",
       "      <th>31</th>\n",
       "      <td>baldwin</td>\n",
       "      <td>19</td>\n",
       "      <td>18.1-20</td>\n",
       "      <td>01003</td>\n",
       "      <td>1</td>\n",
       "      <td>81866</td>\n",
       "      <td>9.052919</td>\n",
       "      <td>904305</td>\n",
       "      <td>425</td>\n",
       "      <td>200111</td>\n",
       "      <td>AL</td>\n",
       "      <td>Alabama</td>\n",
       "      <td>2014</td>\n",
       "      <td>16</td>\n",
       "      <td>0.000080</td>\n",
       "    </tr>\n",
       "    <tr>\n",
       "      <th>46</th>\n",
       "      <td>barbour</td>\n",
       "      <td>7</td>\n",
       "      <td>6.1-8</td>\n",
       "      <td>01005</td>\n",
       "      <td>1</td>\n",
       "      <td>8935</td>\n",
       "      <td>6.278679</td>\n",
       "      <td>142307</td>\n",
       "      <td>33</td>\n",
       "      <td>26978</td>\n",
       "      <td>AL</td>\n",
       "      <td>Alabama</td>\n",
       "      <td>2013</td>\n",
       "      <td>0</td>\n",
       "      <td>0.000000</td>\n",
       "    </tr>\n",
       "  </tbody>\n",
       "</table>\n",
       "</div>"
      ],
      "text/plain": [
       "     county  death_rate_category_median estimated_age_adjusted_death_rate  \\\n",
       "14  autauga                          11                           10.1-12   \n",
       "15  autauga                          11                           10.1-12   \n",
       "30  baldwin                          19                           18.1-20   \n",
       "31  baldwin                          19                           18.1-20   \n",
       "46  barbour                           7                             6.1-8   \n",
       "\n",
       "     fips  fips_state  opioid_claims  opioid_prescribing_rate  overall_claims  \\\n",
       "14  01001           1          20482                 9.803002          208936   \n",
       "15  01001           1          20355                 9.724810          209310   \n",
       "30  01003           1          82517                 9.151229          901704   \n",
       "31  01003           1          81866                 9.052919          904305   \n",
       "46  01005           1           8935                 6.278679          142307   \n",
       "\n",
       "    part_d_prescribers  population  st    state  year  n_facilities  \\\n",
       "14                  67       55136  AL  Alabama  2013             0   \n",
       "15                  67       55395  AL  Alabama  2014             0   \n",
       "30                 407      195443  AL  Alabama  2013            16   \n",
       "31                 425      200111  AL  Alabama  2014            16   \n",
       "46                  33       26978  AL  Alabama  2013             0   \n",
       "\n",
       "    facility_density  \n",
       "14          0.000000  \n",
       "15          0.000000  \n",
       "30          0.000082  \n",
       "31          0.000080  \n",
       "46          0.000000  "
      ]
     },
     "execution_count": 5,
     "metadata": {},
     "output_type": "execute_result"
    }
   ],
   "source": [
    "df_trim = df.copy();\n",
    "\n",
    "cols_to_use = ['opioid_claims', 'opioid_prescribing_rate',\n",
    "               'part_d_prescribers', 'population', 'n_facilities'];\n",
    "\n",
    "df_trim.head()"
   ]
  },
  {
   "cell_type": "code",
   "execution_count": 6,
   "metadata": {
    "collapsed": false
   },
   "outputs": [],
   "source": [
    "x_train = df_trim[df_trim['year'] == 2013];\n",
    "x_train = x_train[x_train['n_facilities'] > 0];\n",
    "y_train = x_train['death_rate_category_median'];\n",
    "x_train = x_train[cols_to_use];\n",
    "#ss = StandardScaler().fit(x_train);\n",
    "#ss.transform(x_train);\n",
    "\n",
    "x_test  = df_trim[df_trim['year'] == 2014];\n",
    "x_test  = x_test[x_test['n_facilities'] > 0];\n",
    "y_test  = x_test['death_rate_category_median'];\n",
    "x_test  = x_test[cols_to_use];\n",
    "#ss.transform(x_test);"
   ]
  },
  {
   "cell_type": "code",
   "execution_count": 7,
   "metadata": {
    "collapsed": true
   },
   "outputs": [],
   "source": [
    "scores = {};"
   ]
  },
  {
   "cell_type": "code",
   "execution_count": 8,
   "metadata": {
    "collapsed": false
   },
   "outputs": [
    {
     "name": "stdout",
     "output_type": "stream",
     "text": [
      "[  1.44807071e-05   1.14719368e+00   5.18773692e-04  -3.80651652e-06\n",
      "   1.65492749e-02]\n",
      "LR R^2 (train): 0.202215279053\n",
      "LR R^2 (test): 0.149789005645\n",
      "LR RMSE: 4.49421319237\n",
      "y test var: 4.84248025517\n"
     ]
    }
   ],
   "source": [
    "lr = linear_model.LinearRegression();\n",
    "lr.fit(x_train, y_train);\n",
    "print lr.coef_;\n",
    "print 'LR R^2 (train): {0}'.format(lr.score(x_train, y_train));\n",
    "\n",
    "pred_train = lr.predict(x_train[cols_to_use]);\n",
    "pred_test = lr.predict(x_test[cols_to_use]);\n",
    "\n",
    "bins = np.linspace(0,20,11);\n",
    "bins = np.append(bins, 100);\n",
    "digitized = 2*np.digitize(pred_test, bins)-1;\n",
    "scores[np.sqrt(metrics.mean_squared_error(y_test, digitized))] = \"Linear\\nRegression\";\n",
    "print 'LR R^2 (test): {0}'.format(lr.score(x_test, y_test));\n",
    "print 'LR RMSE: {0}'.format(np.sqrt(metrics.mean_squared_error(y_test, digitized)));\n",
    "print 'y test var: {0}'.format(np.sqrt(np.var(y_test)));"
   ]
  },
  {
   "cell_type": "code",
   "execution_count": 9,
   "metadata": {
    "collapsed": false
   },
   "outputs": [
    {
     "data": {
      "image/png": "[encoded data removed]",
      "text/plain": [
       "<matplotlib.figure.Figure at 0x111d2bf10>"
      ]
     },
     "metadata": {},
     "output_type": "display_data"
    }
   ],
   "source": [
    "h2train, xe, ye = np.histogram2d(pred_train, y_train,\n",
    "                             bins=[xrange(0,24,2), xrange(0,24,2)])\n",
    "h2train = h2train.transpose()\n",
    "h2test, xe, ye = np.histogram2d(pred_test, y_test,\n",
    "                             bins=[xrange(0,24,2), xrange(0,24,2)])\n",
    "h2test = h2test.transpose()\n",
    "\n",
    "fig, [axL, axR] = plt.subplots(nrows=1, ncols=2, figsize=(12,5), sharex=True, sharey=True);\n",
    "sns.heatmap(h2train, xticklabels=range(1,23,2), yticklabels=range(1,23,2), ax=axL)\n",
    "axL.invert_yaxis()\n",
    "axL.set_xlabel('Predicted Rate (Training)');\n",
    "axL.xaxis.label.set_fontsize(20);\n",
    "axL.set_xlim(0,22);\n",
    "axL.set_ylabel('Actual Rate');\n",
    "axL.yaxis.label.set_fontsize(20);\n",
    "\n",
    "sns.heatmap(h2test, xticklabels=range(1,23,2), yticklabels=range(1,23,2), ax=axR)\n",
    "axR.invert_yaxis()\n",
    "axR.set_xlabel('Predicted Rate (Testing)');\n",
    "axR.xaxis.label.set_fontsize(20);\n",
    "\n",
    "plt.savefig('Fit_LR.png')"
   ]
  },
  {
   "cell_type": "code",
   "execution_count": 10,
   "metadata": {
    "collapsed": false
   },
   "outputs": [
    {
     "data": {
      "image/png": "[encoded data removed]",
      "text/plain": [
       "<matplotlib.figure.Figure at 0x112f00a50>"
      ]
     },
     "metadata": {},
     "output_type": "display_data"
    }
   ],
   "source": [
    "fig, ax = plt.subplots(figsize=(5,5));\n",
    "sns.heatmap(h2test, xticklabels=range(1,23,2), yticklabels=range(1,23,2), ax=ax)\n",
    "ax.invert_yaxis()\n",
    "ax.set_xlabel('Predicted Rate');\n",
    "ax.xaxis.label.set_fontsize(20);\n",
    "ax.set_ylabel('Actual Rate');\n",
    "ax.yaxis.label.set_fontsize(20);\n",
    "\n",
    "\n",
    "plt.savefig('Fit_LR_Test.png')"
   ]
  },
  {
   "cell_type": "code",
   "execution_count": 11,
   "metadata": {
    "collapsed": false
   },
   "outputs": [
    {
     "name": "stdout",
     "output_type": "stream",
     "text": [
      "[ 0.19555299  0.37481328  0.16013006  0.20195938  0.06754429]\n",
      "RF R^2 (train): 0.835634426822\n",
      "RF R^2 (test): 0.396117202798\n",
      "RF RMSE: 3.77751566157\n",
      "y test var: 4.84248025517\n"
     ]
    }
   ],
   "source": [
    "rf = ensemble.RandomForestRegressor();\n",
    "rf.fit(x_train, y_train);\n",
    "print rf.feature_importances_;\n",
    "print 'RF R^2 (train): {0}'.format(rf.score(x_train, y_train));\n",
    "\n",
    "pred_train = rf.predict(x_train[cols_to_use]);\n",
    "pred_test = rf.predict(x_test[cols_to_use]);\n",
    "\n",
    "bins = np.linspace(0,20,11);\n",
    "bins = np.append(bins, 100);\n",
    "digitized = 2*np.digitize(pred_test, bins)-1\n",
    "scores[np.sqrt(metrics.mean_squared_error(y_test, digitized))] = \"Random\\nForest\";\n",
    "print 'RF R^2 (test): {0}'.format(rf.score(x_test, y_test));\n",
    "print 'RF RMSE: {0}'.format(np.sqrt(metrics.mean_squared_error(y_test, digitized)));\n",
    "print 'y test var: {0}'.format(np.sqrt(np.var(y_test)));"
   ]
  },
  {
   "cell_type": "code",
   "execution_count": 12,
   "metadata": {
    "collapsed": false
   },
   "outputs": [
    {
     "data": {
      "image/png": "[encoded data removed]",
      "text/plain": [
       "<matplotlib.figure.Figure at 0x111fbb450>"
      ]
     },
     "metadata": {},
     "output_type": "display_data"
    }
   ],
   "source": [
    "h2train, xe, ye = np.histogram2d(pred_train, y_train,\n",
    "                             bins=[xrange(0,24,2), xrange(0,24,2)])\n",
    "h2train = h2train.transpose()\n",
    "h2test, xe, ye = np.histogram2d(pred_test, y_test,\n",
    "                             bins=[xrange(0,24,2), xrange(0,24,2)])\n",
    "h2test = h2test.transpose()\n",
    "\n",
    "fig, [axL, axR] = plt.subplots(nrows=1, ncols=2, figsize=(12,5), sharex=True, sharey=True);\n",
    "sns.heatmap(h2train, xticklabels=range(1,23,2), yticklabels=range(1,23,2), ax=axL)\n",
    "axL.invert_yaxis()\n",
    "axL.set_xlabel('Predicted Rate (Training)');\n",
    "axL.xaxis.label.set_fontsize(20);\n",
    "axL.set_xlim(0,22);\n",
    "axL.set_ylabel('Actual Rate');\n",
    "axL.yaxis.label.set_fontsize(20);\n",
    "\n",
    "sns.heatmap(h2test, xticklabels=range(1,23,2), yticklabels=range(1,23,2), ax=axR)\n",
    "axR.invert_yaxis()\n",
    "axR.set_xlabel('Predicted Rate (Testing)');\n",
    "axR.xaxis.label.set_fontsize(20);\n",
    "\n",
    "plt.savefig('Fit_RF.png')"
   ]
  },
  {
   "cell_type": "code",
   "execution_count": 13,
   "metadata": {
    "collapsed": false
   },
   "outputs": [
    {
     "data": {
      "image/png": "[encoded data removed]",
      "text/plain": [
       "<matplotlib.figure.Figure at 0x117551210>"
      ]
     },
     "metadata": {},
     "output_type": "display_data"
    }
   ],
   "source": [
    "fig, ax = plt.subplots(figsize=(5,5));\n",
    "sns.heatmap(h2test, xticklabels=range(1,23,2), yticklabels=range(1,23,2), ax=ax)\n",
    "ax.invert_yaxis()\n",
    "ax.set_xlabel('Predicted Rate');\n",
    "ax.xaxis.label.set_fontsize(20);\n",
    "ax.set_ylabel('Actual Rate');\n",
    "ax.yaxis.label.set_fontsize(20);\n",
    "\n",
    "\n",
    "plt.savefig('Fit_RF_Test.png')"
   ]
  },
  {
   "cell_type": "code",
   "execution_count": 14,
   "metadata": {
    "collapsed": false
   },
   "outputs": [
    {
     "name": "stdout",
     "output_type": "stream",
     "text": [
      "Guess RMSE: 6.89028835836\n",
      "y test var: 4.84248025517\n"
     ]
    },
    {
     "data": {
      "image/png": "[encoded data removed]",
      "text/plain": [
       "<matplotlib.figure.Figure at 0x117564bd0>"
      ]
     },
     "metadata": {},
     "output_type": "display_data"
    }
   ],
   "source": [
    "guess_rmse = [];\n",
    "bins = np.linspace(0,20,11);\n",
    "bins = np.append(bins, 100);\n",
    "\n",
    "for i in xrange(1000):\n",
    "    guess = np.random.choice(y_train, len(y_test), replace=True);\n",
    "    digitized = 2*np.digitize(guess, bins)-1;\n",
    "    guess_rmse.append(np.sqrt(metrics.mean_squared_error(y_test, digitized)));\n",
    "scores[np.mean(guess_rmse)] = \"Random\\nGuess\";\n",
    "print 'Guess RMSE: {0}'.format(np.mean(guess_rmse));\n",
    "print 'y test var: {0}'.format(np.sqrt(np.var(y_test)));\n",
    "\n",
    "plt.hist(guess_rmse);\n",
    "plt.xlabel('Guess RMSE');\n",
    "plt.ylabel('Frequency');"
   ]
  },
  {
   "cell_type": "code",
   "execution_count": 15,
   "metadata": {
    "collapsed": false
   },
   "outputs": [],
   "source": [
    "x_train_sc = x_train.copy();\n",
    "ss = StandardScaler().fit(x_train_sc);\n",
    "ss.transform(x_train_sc);\n",
    "\n",
    "x_test_sc  = x_test.copy();\n",
    "ss.transform(x_test_sc);"
   ]
  },
  {
   "cell_type": "code",
   "execution_count": 16,
   "metadata": {
    "collapsed": false
   },
   "outputs": [
    {
     "name": "stdout",
     "output_type": "stream",
     "text": [
      "Sun Feb 12 13:32:00 2017\n"
     ]
    },
    {
     "name": "stderr",
     "output_type": "stream",
     "text": [
      "/Users/gkafka/anaconda/envs/insight/lib/python2.7/site-packages/sklearn/svm/base.py:220: ConvergenceWarning: Solver terminated early (max_iter=10000).  Consider pre-processing your data with StandardScaler or MinMaxScaler.\n",
      "  % self.max_iter, ConvergenceWarning)\n"
     ]
    },
    {
     "name": "stdout",
     "output_type": "stream",
     "text": [
      "Sun Feb 12 13:32:09 2017\n",
      "Best SVM hyperparameters: {'epsilon': 0.1, 'C': 1e-11}\n",
      "Best SVM R^2: 0.0330315020413\n",
      "SVM R^2 (train): 0.0646825431043\n",
      "SVM R^2 (test): 0.0210524181125\n",
      "SVM RMSE: 4.84503898131\n"
     ]
    }
   ],
   "source": [
    "params = {'C': [1e-12, 1e-11, 1e-10, 1e-9, 1e-8, 1e-3, .01, .1, 1],\n",
    "          'epsilon': [0.1, 1]};\n",
    "\n",
    "gs_svm = SVR(kernel='linear', max_iter=10000);\n",
    "gs = GridSearchCV(gs_svm, param_grid=params, cv=5, n_jobs=1);\n",
    "\n",
    "print time.ctime();\n",
    "gs.fit(x_train_sc, y_train);\n",
    "print time.ctime();\n",
    "\n",
    "print 'Best SVM hyperparameters: {0}'.format(gs.best_params_)\n",
    "print 'Best SVM R^2: {0}'.format(gs.best_score_)\n",
    "best = gs.best_estimator_\n",
    "best.fit(x_train_sc, y_train)\n",
    "print 'SVM R^2 (train): {0}'.format(best.score(x_train_sc, y_train))\n",
    "\n",
    "pred_train = best.predict(x_train_sc[cols_to_use]);\n",
    "pred_test = best.predict(x_test_sc[cols_to_use]);\n",
    "\n",
    "bins = np.linspace(0,20,11);\n",
    "bins = np.append(bins, 100);\n",
    "digitized = 2*np.digitize(pred_test, bins)-1\n",
    "scores[np.sqrt(metrics.mean_squared_error(y_test, digitized))] = \"SVM\";\n",
    "print 'SVM R^2 (test): {0}'.format(best.score(x_test_sc, y_test));\n",
    "print 'SVM RMSE: {0}'.format(np.sqrt(metrics.mean_squared_error(y_test, digitized)));"
   ]
  },
  {
   "cell_type": "code",
   "execution_count": 17,
   "metadata": {
    "collapsed": false
   },
   "outputs": [
    {
     "name": "stdout",
     "output_type": "stream",
     "text": [
      "NN R^2 (train): 0.090844064352\n",
      "NN R^2 (test): 0.0558393419017\n",
      "NN RMSE: 4.71943190889\n"
     ]
    }
   ],
   "source": [
    "best = MLPRegressor(hidden_layer_sizes=(1000, 1000, 1000), activation='tanh', alpha=0.01);\n",
    "best.fit(x_train_sc, y_train);\n",
    "\n",
    "#print 'Best NN hyperparameters: {0}'.format(gs.best_params_)\n",
    "#print 'Best NN R^2: {0}'.format(gs.best_score_)\n",
    "#best = gs.best_estimator_\n",
    "#best.fit(x_train_sc, y_train)\n",
    "print 'NN R^2 (train): {0}'.format(best.score(x_train_sc, y_train))\n",
    "\n",
    "pred_train = best.predict(x_train_sc[cols_to_use]);\n",
    "pred_test = best.predict(x_test_sc[cols_to_use]);\n",
    "\n",
    "bins = np.linspace(0,20,11);\n",
    "bins = np.append(bins, 100);\n",
    "digitized = 2*np.digitize(pred_test, bins)-1\n",
    "scores[np.sqrt(metrics.mean_squared_error(y_test, digitized))] = \"Neural\\nNetwork\";\n",
    "print 'NN R^2 (test): {0}'.format(best.score(x_test_sc, y_test));\n",
    "print 'NN RMSE: {0}'.format(np.sqrt(metrics.mean_squared_error(y_test, digitized)));"
   ]
  },
  {
   "cell_type": "code",
   "execution_count": 21,
   "metadata": {
    "collapsed": false
   },
   "outputs": [
    {
     "data": {
      "image/png": "[encoded data removed]",
      "text/plain": [
       "<matplotlib.figure.Figure at 0x116bcab90>"
      ]
     },
     "metadata": {},
     "output_type": "display_data"
    }
   ],
   "source": [
    "scores = collections.OrderedDict(sorted(scores.items()));\n",
    "edges = [i-0.4 for i in range(len(scores))];\n",
    "\n",
    "fig, ax = plt.subplots(figsize=(6,6));\n",
    "ax.set_axis_bgcolor('white')\n",
    "ax.set_xlim(-0.5, 4.5)\n",
    "bars = plt.bar(edges, scores, width=0.8, color='purple');\n",
    "ax.set_xticks(range(len(scores)));\n",
    "ax.set_xticklabels(scores.values());\n",
    "ax.tick_params(labelsize=14);\n",
    "ax.set_ylabel(\"RMSE\\n(Lower is Better)\");\n",
    "ax.set_yticks([])\n",
    "ax.yaxis.label.set_fontsize(20);\n",
    "for bar in bars:\n",
    "    h = bar.get_height()\n",
    "    ax.text(bar.get_x() + bar.get_width()/2., h+0.1,\n",
    "        '{0:.1f}'.format(round(h, 1)),\n",
    "        ha='center', va='bottom', fontsize=16)\n",
    "\n",
    "plt.savefig('Bar_RMSE.png')"
   ]
  },
  {
   "cell_type": "code",
   "execution_count": 21,
   "metadata": {
    "collapsed": false
   },
   "outputs": [
    {
     "data": {
      "text/html": [
       "<div>\n",
       "<table border=\"1\" class=\"dataframe\">\n",
       "  <thead>\n",
       "    <tr style=\"text-align: right;\">\n",
       "      <th></th>\n",
       "      <th>county</th>\n",
       "      <th>death_rate_category_median</th>\n",
       "      <th>estimated_age_adjusted_death_rate</th>\n",
       "      <th>fips</th>\n",
       "      <th>fips_state</th>\n",
       "      <th>opioid_claims</th>\n",
       "      <th>opioid_prescribing_rate</th>\n",
       "      <th>overall_claims</th>\n",
       "      <th>part_d_prescribers</th>\n",
       "      <th>population</th>\n",
       "      <th>st</th>\n",
       "      <th>state</th>\n",
       "      <th>year</th>\n",
       "      <th>n_facilities</th>\n",
       "      <th>facility_density</th>\n",
       "      <th>pred_diff</th>\n",
       "    </tr>\n",
       "  </thead>\n",
       "  <tbody>\n",
       "    <tr>\n",
       "      <th>14</th>\n",
       "      <td>autauga</td>\n",
       "      <td>11</td>\n",
       "      <td>10.1-12</td>\n",
       "      <td>01001</td>\n",
       "      <td>1</td>\n",
       "      <td>20482</td>\n",
       "      <td>9.803002</td>\n",
       "      <td>208936</td>\n",
       "      <td>67</td>\n",
       "      <td>55136</td>\n",
       "      <td>AL</td>\n",
       "      <td>Alabama</td>\n",
       "      <td>2013</td>\n",
       "      <td>0</td>\n",
       "      <td>0.000000</td>\n",
       "      <td>-8.6</td>\n",
       "    </tr>\n",
       "    <tr>\n",
       "      <th>15</th>\n",
       "      <td>autauga</td>\n",
       "      <td>11</td>\n",
       "      <td>10.1-12</td>\n",
       "      <td>01001</td>\n",
       "      <td>1</td>\n",
       "      <td>20355</td>\n",
       "      <td>9.724810</td>\n",
       "      <td>209310</td>\n",
       "      <td>67</td>\n",
       "      <td>55395</td>\n",
       "      <td>AL</td>\n",
       "      <td>Alabama</td>\n",
       "      <td>2014</td>\n",
       "      <td>0</td>\n",
       "      <td>0.000000</td>\n",
       "      <td>-8.6</td>\n",
       "    </tr>\n",
       "    <tr>\n",
       "      <th>30</th>\n",
       "      <td>baldwin</td>\n",
       "      <td>19</td>\n",
       "      <td>18.1-20</td>\n",
       "      <td>01003</td>\n",
       "      <td>1</td>\n",
       "      <td>82517</td>\n",
       "      <td>9.151229</td>\n",
       "      <td>901704</td>\n",
       "      <td>407</td>\n",
       "      <td>195443</td>\n",
       "      <td>AL</td>\n",
       "      <td>Alabama</td>\n",
       "      <td>2013</td>\n",
       "      <td>16</td>\n",
       "      <td>0.000082</td>\n",
       "      <td>-0.2</td>\n",
       "    </tr>\n",
       "    <tr>\n",
       "      <th>31</th>\n",
       "      <td>baldwin</td>\n",
       "      <td>19</td>\n",
       "      <td>18.1-20</td>\n",
       "      <td>01003</td>\n",
       "      <td>1</td>\n",
       "      <td>81866</td>\n",
       "      <td>9.052919</td>\n",
       "      <td>904305</td>\n",
       "      <td>425</td>\n",
       "      <td>200111</td>\n",
       "      <td>AL</td>\n",
       "      <td>Alabama</td>\n",
       "      <td>2014</td>\n",
       "      <td>16</td>\n",
       "      <td>0.000080</td>\n",
       "      <td>0.8</td>\n",
       "    </tr>\n",
       "    <tr>\n",
       "      <th>46</th>\n",
       "      <td>barbour</td>\n",
       "      <td>7</td>\n",
       "      <td>6.1-8</td>\n",
       "      <td>01005</td>\n",
       "      <td>1</td>\n",
       "      <td>8935</td>\n",
       "      <td>6.278679</td>\n",
       "      <td>142307</td>\n",
       "      <td>33</td>\n",
       "      <td>26978</td>\n",
       "      <td>AL</td>\n",
       "      <td>Alabama</td>\n",
       "      <td>2013</td>\n",
       "      <td>0</td>\n",
       "      <td>0.000000</td>\n",
       "      <td>-8.2</td>\n",
       "    </tr>\n",
       "  </tbody>\n",
       "</table>\n",
       "</div>"
      ],
      "text/plain": [
       "     county  death_rate_category_median estimated_age_adjusted_death_rate  \\\n",
       "14  autauga                          11                           10.1-12   \n",
       "15  autauga                          11                           10.1-12   \n",
       "30  baldwin                          19                           18.1-20   \n",
       "31  baldwin                          19                           18.1-20   \n",
       "46  barbour                           7                             6.1-8   \n",
       "\n",
       "     fips  fips_state  opioid_claims  opioid_prescribing_rate  overall_claims  \\\n",
       "14  01001           1          20482                 9.803002          208936   \n",
       "15  01001           1          20355                 9.724810          209310   \n",
       "30  01003           1          82517                 9.151229          901704   \n",
       "31  01003           1          81866                 9.052919          904305   \n",
       "46  01005           1           8935                 6.278679          142307   \n",
       "\n",
       "    part_d_prescribers  population  st    state  year  n_facilities  \\\n",
       "14                  67       55136  AL  Alabama  2013             0   \n",
       "15                  67       55395  AL  Alabama  2014             0   \n",
       "30                 407      195443  AL  Alabama  2013            16   \n",
       "31                 425      200111  AL  Alabama  2014            16   \n",
       "46                  33       26978  AL  Alabama  2013             0   \n",
       "\n",
       "    facility_density  pred_diff  \n",
       "14          0.000000       -8.6  \n",
       "15          0.000000       -8.6  \n",
       "30          0.000082       -0.2  \n",
       "31          0.000080        0.8  \n",
       "46          0.000000       -8.2  "
      ]
     },
     "execution_count": 21,
     "metadata": {},
     "output_type": "execute_result"
    }
   ],
   "source": [
    "df_trim['pred_diff'] = df_trim['death_rate_category_median'].values - rf.predict(df_trim[cols_to_use])\n",
    "df_trim.head()"
   ]
  },
  {
   "cell_type": "code",
   "execution_count": 12,
   "metadata": {
    "collapsed": false
   },
   "outputs": [
    {
     "data": {
      "text/plain": [
       "['RehabApp/static/model_rf.pkl',\n",
       " 'RehabApp/static/model_rf.pkl_01.npy',\n",
       " 'RehabApp/static/model_rf.pkl_02.npy',\n",
       " 'RehabApp/static/model_rf.pkl_03.npy',\n",
       " 'RehabApp/static/model_rf.pkl_04.npy',\n",
       " 'RehabApp/static/model_rf.pkl_05.npy',\n",
       " 'RehabApp/static/model_rf.pkl_06.npy',\n",
       " 'RehabApp/static/model_rf.pkl_07.npy',\n",
       " 'RehabApp/static/model_rf.pkl_08.npy',\n",
       " 'RehabApp/static/model_rf.pkl_09.npy',\n",
       " 'RehabApp/static/model_rf.pkl_10.npy',\n",
       " 'RehabApp/static/model_rf.pkl_11.npy',\n",
       " 'RehabApp/static/model_rf.pkl_12.npy',\n",
       " 'RehabApp/static/model_rf.pkl_13.npy',\n",
       " 'RehabApp/static/model_rf.pkl_14.npy',\n",
       " 'RehabApp/static/model_rf.pkl_15.npy',\n",
       " 'RehabApp/static/model_rf.pkl_16.npy',\n",
       " 'RehabApp/static/model_rf.pkl_17.npy',\n",
       " 'RehabApp/static/model_rf.pkl_18.npy',\n",
       " 'RehabApp/static/model_rf.pkl_19.npy',\n",
       " 'RehabApp/static/model_rf.pkl_20.npy',\n",
       " 'RehabApp/static/model_rf.pkl_21.npy',\n",
       " 'RehabApp/static/model_rf.pkl_22.npy',\n",
       " 'RehabApp/static/model_rf.pkl_23.npy',\n",
       " 'RehabApp/static/model_rf.pkl_24.npy',\n",
       " 'RehabApp/static/model_rf.pkl_25.npy',\n",
       " 'RehabApp/static/model_rf.pkl_26.npy',\n",
       " 'RehabApp/static/model_rf.pkl_27.npy',\n",
       " 'RehabApp/static/model_rf.pkl_28.npy',\n",
       " 'RehabApp/static/model_rf.pkl_29.npy',\n",
       " 'RehabApp/static/model_rf.pkl_30.npy']"
      ]
     },
     "execution_count": 12,
     "metadata": {},
     "output_type": "execute_result"
    }
   ],
   "source": [
    "joblib.dump(rf, 'RehabApp/static/model_rf.pkl')\n",
    "#joblib.dump(ss, 'RehabApp/static/scale.pkl')"
   ]
  },
  {
   "cell_type": "code",
   "execution_count": 4,
   "metadata": {
    "collapsed": false
   },
   "outputs": [
    {
     "name": "stdout",
     "output_type": "stream",
     "text": [
      "postgres://gkafka@localhost/rehab_db\n",
      "True\n"
     ]
    }
   ],
   "source": [
    "dbname = 'rehab_db';\n",
    "username = 'gkafka';\n",
    "\n",
    "engine = create_engine('postgres://{0}@localhost/{1}'.format(username,dbname));\n",
    "print engine.url;\n",
    "\n",
    "if not database_exists(engine.url):\n",
    "    create_database(engine.url);\n",
    "print database_exists(engine.url);"
   ]
  },
  {
   "cell_type": "code",
   "execution_count": null,
   "metadata": {
    "collapsed": true
   },
   "outputs": [],
   "source": [
    "df_trim.to_sql('rehab_table', engine, if_exists='replace')"
   ]
  },
  {
   "cell_type": "code",
   "execution_count": 5,
   "metadata": {
    "collapsed": false
   },
   "outputs": [
    {
     "data": {
      "text/html": [
       "<div>\n",
       "<table border=\"1\" class=\"dataframe\">\n",
       "  <thead>\n",
       "    <tr style=\"text-align: right;\">\n",
       "      <th></th>\n",
       "      <th>index</th>\n",
       "      <th>county</th>\n",
       "      <th>death_rate_category_median</th>\n",
       "      <th>estimated_age_adjusted_death_rate</th>\n",
       "      <th>fips</th>\n",
       "      <th>fips_state</th>\n",
       "      <th>opioid_claims</th>\n",
       "      <th>opioid_prescribing_rate</th>\n",
       "      <th>overall_claims</th>\n",
       "      <th>part_d_prescribers</th>\n",
       "      <th>population</th>\n",
       "      <th>st</th>\n",
       "      <th>state</th>\n",
       "      <th>year</th>\n",
       "      <th>n_facilities</th>\n",
       "      <th>facility_density</th>\n",
       "      <th>pred_diff</th>\n",
       "    </tr>\n",
       "  </thead>\n",
       "  <tbody>\n",
       "    <tr>\n",
       "      <th>0</th>\n",
       "      <td>16262</td>\n",
       "      <td>crane</td>\n",
       "      <td>11</td>\n",
       "      <td>10.1-12</td>\n",
       "      <td>48103</td>\n",
       "      <td>48</td>\n",
       "      <td>713</td>\n",
       "      <td>5.665475</td>\n",
       "      <td>12585</td>\n",
       "      <td>6</td>\n",
       "      <td>4755</td>\n",
       "      <td>TX</td>\n",
       "      <td>Texas</td>\n",
       "      <td>2013</td>\n",
       "      <td>0</td>\n",
       "      <td>0.0</td>\n",
       "      <td>-4.2</td>\n",
       "    </tr>\n",
       "    <tr>\n",
       "      <th>1</th>\n",
       "      <td>40390</td>\n",
       "      <td>anderson</td>\n",
       "      <td>15</td>\n",
       "      <td>14.1-16</td>\n",
       "      <td>48001</td>\n",
       "      <td>48</td>\n",
       "      <td>13497</td>\n",
       "      <td>5.628440</td>\n",
       "      <td>239800</td>\n",
       "      <td>93</td>\n",
       "      <td>57934</td>\n",
       "      <td>TX</td>\n",
       "      <td>Texas</td>\n",
       "      <td>2013</td>\n",
       "      <td>0</td>\n",
       "      <td>0.0</td>\n",
       "      <td>2.0</td>\n",
       "    </tr>\n",
       "    <tr>\n",
       "      <th>2</th>\n",
       "      <td>40406</td>\n",
       "      <td>andrews</td>\n",
       "      <td>11</td>\n",
       "      <td>10.1-12</td>\n",
       "      <td>48003</td>\n",
       "      <td>48</td>\n",
       "      <td>2651</td>\n",
       "      <td>5.810029</td>\n",
       "      <td>45628</td>\n",
       "      <td>27</td>\n",
       "      <td>16808</td>\n",
       "      <td>TX</td>\n",
       "      <td>Texas</td>\n",
       "      <td>2013</td>\n",
       "      <td>0</td>\n",
       "      <td>0.0</td>\n",
       "      <td>-5.2</td>\n",
       "    </tr>\n",
       "    <tr>\n",
       "      <th>3</th>\n",
       "      <td>40422</td>\n",
       "      <td>angelina</td>\n",
       "      <td>9</td>\n",
       "      <td>8.1-10</td>\n",
       "      <td>48005</td>\n",
       "      <td>48</td>\n",
       "      <td>35022</td>\n",
       "      <td>5.246977</td>\n",
       "      <td>667470</td>\n",
       "      <td>220</td>\n",
       "      <td>87613</td>\n",
       "      <td>TX</td>\n",
       "      <td>Texas</td>\n",
       "      <td>2013</td>\n",
       "      <td>0</td>\n",
       "      <td>0.0</td>\n",
       "      <td>-4.2</td>\n",
       "    </tr>\n",
       "    <tr>\n",
       "      <th>4</th>\n",
       "      <td>40438</td>\n",
       "      <td>aransas</td>\n",
       "      <td>21</td>\n",
       "      <td>&gt;20</td>\n",
       "      <td>48007</td>\n",
       "      <td>48</td>\n",
       "      <td>5245</td>\n",
       "      <td>5.636209</td>\n",
       "      <td>93059</td>\n",
       "      <td>54</td>\n",
       "      <td>24229</td>\n",
       "      <td>TX</td>\n",
       "      <td>Texas</td>\n",
       "      <td>2013</td>\n",
       "      <td>0</td>\n",
       "      <td>0.0</td>\n",
       "      <td>10.4</td>\n",
       "    </tr>\n",
       "  </tbody>\n",
       "</table>\n",
       "</div>"
      ],
      "text/plain": [
       "   index    county  death_rate_category_median  \\\n",
       "0  16262     crane                          11   \n",
       "1  40390  anderson                          15   \n",
       "2  40406   andrews                          11   \n",
       "3  40422  angelina                           9   \n",
       "4  40438   aransas                          21   \n",
       "\n",
       "  estimated_age_adjusted_death_rate   fips  fips_state  opioid_claims  \\\n",
       "0                           10.1-12  48103          48            713   \n",
       "1                           14.1-16  48001          48          13497   \n",
       "2                           10.1-12  48003          48           2651   \n",
       "3                            8.1-10  48005          48          35022   \n",
       "4                               >20  48007          48           5245   \n",
       "\n",
       "   opioid_prescribing_rate  overall_claims  part_d_prescribers  population  \\\n",
       "0                 5.665475           12585                   6        4755   \n",
       "1                 5.628440          239800                  93       57934   \n",
       "2                 5.810029           45628                  27       16808   \n",
       "3                 5.246977          667470                 220       87613   \n",
       "4                 5.636209           93059                  54       24229   \n",
       "\n",
       "   st  state  year  n_facilities  facility_density  pred_diff  \n",
       "0  TX  Texas  2013             0               0.0       -4.2  \n",
       "1  TX  Texas  2013             0               0.0        2.0  \n",
       "2  TX  Texas  2013             0               0.0       -5.2  \n",
       "3  TX  Texas  2013             0               0.0       -4.2  \n",
       "4  TX  Texas  2013             0               0.0       10.4  "
      ]
     },
     "execution_count": 5,
     "metadata": {},
     "output_type": "execute_result"
    }
   ],
   "source": [
    "con = None\n",
    "con = psycopg2.connect(database = dbname, user = username)\n",
    "\n",
    "# query:\n",
    "sql_query = \"\"\"\n",
    "SELECT * FROM rehab_table WHERE year=2013 AND st='TX';\n",
    "\"\"\"\n",
    "birth_data_from_sql = pd.read_sql_query(sql_query,con)\n",
    "\n",
    "birth_data_from_sql.head()"
   ]
  },
  {
   "cell_type": "code",
   "execution_count": 16,
   "metadata": {
    "collapsed": false
   },
   "outputs": [
    {
     "data": {
      "text/html": [
       "<div>\n",
       "<table border=\"1\" class=\"dataframe\">\n",
       "  <thead>\n",
       "    <tr style=\"text-align: right;\">\n",
       "      <th></th>\n",
       "      <th>fips</th>\n",
       "      <th>county</th>\n",
       "      <th>st</th>\n",
       "      <th>pred_diff</th>\n",
       "    </tr>\n",
       "  </thead>\n",
       "  <tbody>\n",
       "    <tr>\n",
       "      <th>15</th>\n",
       "      <td>01001</td>\n",
       "      <td>Autauga</td>\n",
       "      <td>AL</td>\n",
       "      <td>-7.8</td>\n",
       "    </tr>\n",
       "    <tr>\n",
       "      <th>31</th>\n",
       "      <td>01003</td>\n",
       "      <td>Baldwin</td>\n",
       "      <td>AL</td>\n",
       "      <td>0.6</td>\n",
       "    </tr>\n",
       "    <tr>\n",
       "      <th>47</th>\n",
       "      <td>01005</td>\n",
       "      <td>Barbour</td>\n",
       "      <td>AL</td>\n",
       "      <td>-4.6</td>\n",
       "    </tr>\n",
       "    <tr>\n",
       "      <th>63</th>\n",
       "      <td>01007</td>\n",
       "      <td>Bibb</td>\n",
       "      <td>AL</td>\n",
       "      <td>5.6</td>\n",
       "    </tr>\n",
       "    <tr>\n",
       "      <th>79</th>\n",
       "      <td>01009</td>\n",
       "      <td>Blount</td>\n",
       "      <td>AL</td>\n",
       "      <td>-1.2</td>\n",
       "    </tr>\n",
       "  </tbody>\n",
       "</table>\n",
       "</div>"
      ],
      "text/plain": [
       "     fips   county  st  pred_diff\n",
       "15  01001  Autauga  AL       -7.8\n",
       "31  01003  Baldwin  AL        0.6\n",
       "47  01005  Barbour  AL       -4.6\n",
       "63  01007     Bibb  AL        5.6\n",
       "79  01009   Blount  AL       -1.2"
      ]
     },
     "execution_count": 16,
     "metadata": {},
     "output_type": "execute_result"
    }
   ],
   "source": [
    "csv_cols = ['fips', 'county', 'st', 'pred_diff']\n",
    "def caps_county(c):\n",
    "    return ' '.join(w.title() for w in c.split(' '))\n",
    "dfcsv = df_trim[df_trim['year'] == 2014][csv_cols].copy()\n",
    "dfcsv['county'] = dfcsv['county'].apply(caps_county)\n",
    "dfcsv.to_csv('RehabApp/static/rehab.csv')\n",
    "dfcsv.head()"
   ]
  },
  {
   "cell_type": "code",
   "execution_count": null,
   "metadata": {
    "collapsed": true
   },
   "outputs": [],
   "source": []
  }
 ],
 "metadata": {
  "anaconda-cloud": {},
  "kernelspec": {
   "display_name": "Python [default]",
   "language": "python",
   "name": "python2"
  },
  "language_info": {
   "codemirror_mode": {
    "name": "ipython",
    "version": 2
   },
   "file_extension": ".py",
   "mimetype": "text/x-python",
   "name": "python",
   "nbconvert_exporter": "python",
   "pygments_lexer": "ipython2",
   "version": "2.7.12"
  }
 },
 "nbformat": 4,
 "nbformat_minor": 0
}
